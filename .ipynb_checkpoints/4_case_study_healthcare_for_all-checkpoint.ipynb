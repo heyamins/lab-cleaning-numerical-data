{
 "cells": [
  {
   "cell_type": "markdown",
   "metadata": {
    "id": "SwbV4vH7g4_F"
   },
   "source": [
    "## Healthcare for All"
   ]
  },
  {
   "cell_type": "markdown",
   "metadata": {
    "id": "0siccrxrg4_J"
   },
   "source": [
    "Your task as a data analyst is to help improve the process by developing machine learning models to predict the gift amount based on X features. Follow the data analysis workflow to build the model.\n",
    "\n",
    "In this business case, you have a data of donors from previous campaings. We want to use this data to send mail promoting the campaign, the problem is that the cost of each mail is 0.68$ and there are over 90.000 donors in the database, so it is not viable to mail every donor.\n",
    "\n",
    "You're manager also informed you that in previous research it was discovered that sending mail to the most likely donors would increase the probability of the donation, while sending mail to the least likely donors would not impact on the probability of the donation. Therefore, your focus should be sending mail to the most likely donors."
   ]
  },
  {
   "cell_type": "code",
   "execution_count": 1,
   "metadata": {
    "executionInfo": {
     "elapsed": 614,
     "status": "ok",
     "timestamp": 1687881779193,
     "user": {
      "displayName": "Felipe Rocha",
      "userId": "13209801955446981393"
     },
     "user_tz": -60
    },
    "id": "K9OGiGavg4_J"
   },
   "outputs": [],
   "source": [
    "import pandas as pd\n",
    "import numpy as np\n",
    "import datetime\n",
    "import warnings\n",
    "import matplotlib.pyplot as plt\n",
    "import seaborn as sns\n",
    "\n",
    "pd.set_option('display.max_columns', None)\n",
    "warnings.filterwarnings('ignore')"
   ]
  },
  {
   "cell_type": "code",
   "execution_count": 2,
   "metadata": {
    "colab": {
     "base_uri": "https://localhost:8080/"
    },
    "executionInfo": {
     "elapsed": 1427,
     "status": "ok",
     "timestamp": 1687881780618,
     "user": {
      "displayName": "Felipe Rocha",
      "userId": "13209801955446981393"
     },
     "user_tz": -60
    },
    "id": "byNpDshKg61j",
    "outputId": "2f7ac2be-16e9-47a1-fb06-c73c9e8ad5ad"
   },
   "outputs": [
    {
     "name": "stdout",
     "output_type": "stream",
     "text": [
      "Drive already mounted at /content/drive; to attempt to forcibly remount, call drive.mount(\"/content/drive\", force_remount=True).\n"
     ]
    }
   ],
   "source": [
    "from google.colab import drive\n",
    "drive.mount('/content/drive')"
   ]
  },
  {
   "cell_type": "markdown",
   "metadata": {
    "id": "v7xdTH-sg4_K"
   },
   "source": [
    "### Checking Dataset"
   ]
  },
  {
   "cell_type": "code",
   "execution_count": 3,
   "metadata": {
    "colab": {
     "base_uri": "https://localhost:8080/",
     "height": 487
    },
    "executionInfo": {
     "elapsed": 34813,
     "status": "ok",
     "timestamp": 1687881815429,
     "user": {
      "displayName": "Felipe Rocha",
      "userId": "13209801955446981393"
     },
     "user_tz": -60
    },
    "id": "sVs5jhkIg4_L",
    "outputId": "0c55b622-6e35-4bd3-a3ff-8c916f55f301",
    "scrolled": true
   },
   "outputs": [
    {
     "data": {
      "text/html": [
       "\n",
       "  <div id=\"df-f9b9f8e5-d010-47d9-ba4f-f4407b9e1ff2\">\n",
       "    <div class=\"colab-df-container\">\n",
       "      <div>\n",
       "<style scoped>\n",
       "    .dataframe tbody tr th:only-of-type {\n",
       "        vertical-align: middle;\n",
       "    }\n",
       "\n",
       "    .dataframe tbody tr th {\n",
       "        vertical-align: top;\n",
       "    }\n",
       "\n",
       "    .dataframe thead th {\n",
       "        text-align: right;\n",
       "    }\n",
       "</style>\n",
       "<table border=\"1\" class=\"dataframe\">\n",
       "  <thead>\n",
       "    <tr style=\"text-align: right;\">\n",
       "      <th></th>\n",
       "      <th>CONTROLN</th>\n",
       "      <th>STATE</th>\n",
       "      <th>MDMAUD</th>\n",
       "      <th>RECP3</th>\n",
       "      <th>GENDER</th>\n",
       "      <th>DOMAIN</th>\n",
       "      <th>INCOME</th>\n",
       "      <th>HOMEOWNR</th>\n",
       "      <th>HV1</th>\n",
       "      <th>HV2</th>\n",
       "      <th>HV3</th>\n",
       "      <th>HV4</th>\n",
       "      <th>IC1</th>\n",
       "      <th>IC2</th>\n",
       "      <th>IC3</th>\n",
       "      <th>IC4</th>\n",
       "      <th>IC5</th>\n",
       "      <th>VETERANS</th>\n",
       "      <th>NUMPROM</th>\n",
       "      <th>CARDPROM</th>\n",
       "      <th>CARDPM12</th>\n",
       "      <th>NUMPRM12</th>\n",
       "      <th>RFA_2</th>\n",
       "      <th>NGIFTALL</th>\n",
       "      <th>TIMELAG</th>\n",
       "      <th>LASTGIFT</th>\n",
       "      <th>AVGGIFT</th>\n",
       "      <th>TARGET_D</th>\n",
       "    </tr>\n",
       "  </thead>\n",
       "  <tbody>\n",
       "    <tr>\n",
       "      <th>0</th>\n",
       "      <td>95515</td>\n",
       "      <td>IL</td>\n",
       "      <td>XXXX</td>\n",
       "      <td></td>\n",
       "      <td>F</td>\n",
       "      <td>T2</td>\n",
       "      <td>NaN</td>\n",
       "      <td></td>\n",
       "      <td>479</td>\n",
       "      <td>635</td>\n",
       "      <td>3</td>\n",
       "      <td>2</td>\n",
       "      <td>307</td>\n",
       "      <td>318</td>\n",
       "      <td>349</td>\n",
       "      <td>378</td>\n",
       "      <td>12883</td>\n",
       "      <td></td>\n",
       "      <td>74</td>\n",
       "      <td>27</td>\n",
       "      <td>6</td>\n",
       "      <td>14</td>\n",
       "      <td>L4E</td>\n",
       "      <td>31</td>\n",
       "      <td>4.0</td>\n",
       "      <td>10.0</td>\n",
       "      <td>7.741935</td>\n",
       "      <td>0.0</td>\n",
       "    </tr>\n",
       "    <tr>\n",
       "      <th>1</th>\n",
       "      <td>148535</td>\n",
       "      <td>CA</td>\n",
       "      <td>XXXX</td>\n",
       "      <td></td>\n",
       "      <td>M</td>\n",
       "      <td>S1</td>\n",
       "      <td>6.0</td>\n",
       "      <td>H</td>\n",
       "      <td>5468</td>\n",
       "      <td>5218</td>\n",
       "      <td>12</td>\n",
       "      <td>10</td>\n",
       "      <td>1088</td>\n",
       "      <td>1096</td>\n",
       "      <td>1026</td>\n",
       "      <td>1037</td>\n",
       "      <td>36175</td>\n",
       "      <td></td>\n",
       "      <td>32</td>\n",
       "      <td>12</td>\n",
       "      <td>6</td>\n",
       "      <td>13</td>\n",
       "      <td>L2G</td>\n",
       "      <td>3</td>\n",
       "      <td>18.0</td>\n",
       "      <td>25.0</td>\n",
       "      <td>15.666667</td>\n",
       "      <td>0.0</td>\n",
       "    </tr>\n",
       "    <tr>\n",
       "      <th>2</th>\n",
       "      <td>15078</td>\n",
       "      <td>NC</td>\n",
       "      <td>XXXX</td>\n",
       "      <td></td>\n",
       "      <td>M</td>\n",
       "      <td>R2</td>\n",
       "      <td>3.0</td>\n",
       "      <td>U</td>\n",
       "      <td>497</td>\n",
       "      <td>546</td>\n",
       "      <td>2</td>\n",
       "      <td>1</td>\n",
       "      <td>251</td>\n",
       "      <td>292</td>\n",
       "      <td>292</td>\n",
       "      <td>340</td>\n",
       "      <td>11576</td>\n",
       "      <td></td>\n",
       "      <td>63</td>\n",
       "      <td>26</td>\n",
       "      <td>6</td>\n",
       "      <td>14</td>\n",
       "      <td>L4E</td>\n",
       "      <td>27</td>\n",
       "      <td>12.0</td>\n",
       "      <td>5.0</td>\n",
       "      <td>7.481481</td>\n",
       "      <td>0.0</td>\n",
       "    </tr>\n",
       "    <tr>\n",
       "      <th>3</th>\n",
       "      <td>172556</td>\n",
       "      <td>CA</td>\n",
       "      <td>XXXX</td>\n",
       "      <td></td>\n",
       "      <td>F</td>\n",
       "      <td>R2</td>\n",
       "      <td>1.0</td>\n",
       "      <td>U</td>\n",
       "      <td>1000</td>\n",
       "      <td>1263</td>\n",
       "      <td>2</td>\n",
       "      <td>1</td>\n",
       "      <td>386</td>\n",
       "      <td>388</td>\n",
       "      <td>396</td>\n",
       "      <td>423</td>\n",
       "      <td>15130</td>\n",
       "      <td></td>\n",
       "      <td>66</td>\n",
       "      <td>27</td>\n",
       "      <td>6</td>\n",
       "      <td>14</td>\n",
       "      <td>L4E</td>\n",
       "      <td>16</td>\n",
       "      <td>9.0</td>\n",
       "      <td>10.0</td>\n",
       "      <td>6.812500</td>\n",
       "      <td>0.0</td>\n",
       "    </tr>\n",
       "    <tr>\n",
       "      <th>4</th>\n",
       "      <td>7112</td>\n",
       "      <td>FL</td>\n",
       "      <td>XXXX</td>\n",
       "      <td>X</td>\n",
       "      <td>F</td>\n",
       "      <td>S2</td>\n",
       "      <td>3.0</td>\n",
       "      <td>H</td>\n",
       "      <td>576</td>\n",
       "      <td>594</td>\n",
       "      <td>4</td>\n",
       "      <td>3</td>\n",
       "      <td>240</td>\n",
       "      <td>250</td>\n",
       "      <td>293</td>\n",
       "      <td>321</td>\n",
       "      <td>9836</td>\n",
       "      <td></td>\n",
       "      <td>113</td>\n",
       "      <td>43</td>\n",
       "      <td>10</td>\n",
       "      <td>25</td>\n",
       "      <td>L2F</td>\n",
       "      <td>37</td>\n",
       "      <td>14.0</td>\n",
       "      <td>15.0</td>\n",
       "      <td>6.864865</td>\n",
       "      <td>0.0</td>\n",
       "    </tr>\n",
       "    <tr>\n",
       "      <th>...</th>\n",
       "      <td>...</td>\n",
       "      <td>...</td>\n",
       "      <td>...</td>\n",
       "      <td>...</td>\n",
       "      <td>...</td>\n",
       "      <td>...</td>\n",
       "      <td>...</td>\n",
       "      <td>...</td>\n",
       "      <td>...</td>\n",
       "      <td>...</td>\n",
       "      <td>...</td>\n",
       "      <td>...</td>\n",
       "      <td>...</td>\n",
       "      <td>...</td>\n",
       "      <td>...</td>\n",
       "      <td>...</td>\n",
       "      <td>...</td>\n",
       "      <td>...</td>\n",
       "      <td>...</td>\n",
       "      <td>...</td>\n",
       "      <td>...</td>\n",
       "      <td>...</td>\n",
       "      <td>...</td>\n",
       "      <td>...</td>\n",
       "      <td>...</td>\n",
       "      <td>...</td>\n",
       "      <td>...</td>\n",
       "      <td>...</td>\n",
       "    </tr>\n",
       "    <tr>\n",
       "      <th>95407</th>\n",
       "      <td>184568</td>\n",
       "      <td>AK</td>\n",
       "      <td>XXXX</td>\n",
       "      <td></td>\n",
       "      <td>M</td>\n",
       "      <td>C2</td>\n",
       "      <td>NaN</td>\n",
       "      <td></td>\n",
       "      <td>988</td>\n",
       "      <td>1025</td>\n",
       "      <td>6</td>\n",
       "      <td>6</td>\n",
       "      <td>433</td>\n",
       "      <td>481</td>\n",
       "      <td>499</td>\n",
       "      <td>535</td>\n",
       "      <td>18807</td>\n",
       "      <td></td>\n",
       "      <td>14</td>\n",
       "      <td>6</td>\n",
       "      <td>5</td>\n",
       "      <td>12</td>\n",
       "      <td>L1G</td>\n",
       "      <td>1</td>\n",
       "      <td>NaN</td>\n",
       "      <td>25.0</td>\n",
       "      <td>25.000000</td>\n",
       "      <td>0.0</td>\n",
       "    </tr>\n",
       "    <tr>\n",
       "      <th>95408</th>\n",
       "      <td>122706</td>\n",
       "      <td>TX</td>\n",
       "      <td>XXXX</td>\n",
       "      <td></td>\n",
       "      <td>M</td>\n",
       "      <td>C1</td>\n",
       "      <td>7.0</td>\n",
       "      <td>H</td>\n",
       "      <td>1679</td>\n",
       "      <td>1723</td>\n",
       "      <td>3</td>\n",
       "      <td>3</td>\n",
       "      <td>806</td>\n",
       "      <td>836</td>\n",
       "      <td>802</td>\n",
       "      <td>849</td>\n",
       "      <td>26538</td>\n",
       "      <td></td>\n",
       "      <td>10</td>\n",
       "      <td>4</td>\n",
       "      <td>3</td>\n",
       "      <td>8</td>\n",
       "      <td>L1F</td>\n",
       "      <td>1</td>\n",
       "      <td>NaN</td>\n",
       "      <td>20.0</td>\n",
       "      <td>20.000000</td>\n",
       "      <td>0.0</td>\n",
       "    </tr>\n",
       "    <tr>\n",
       "      <th>95409</th>\n",
       "      <td>189641</td>\n",
       "      <td>MI</td>\n",
       "      <td>XXXX</td>\n",
       "      <td>X</td>\n",
       "      <td>M</td>\n",
       "      <td>C3</td>\n",
       "      <td>NaN</td>\n",
       "      <td></td>\n",
       "      <td>376</td>\n",
       "      <td>377</td>\n",
       "      <td>4</td>\n",
       "      <td>3</td>\n",
       "      <td>263</td>\n",
       "      <td>264</td>\n",
       "      <td>319</td>\n",
       "      <td>345</td>\n",
       "      <td>12178</td>\n",
       "      <td></td>\n",
       "      <td>33</td>\n",
       "      <td>14</td>\n",
       "      <td>7</td>\n",
       "      <td>17</td>\n",
       "      <td>L3E</td>\n",
       "      <td>7</td>\n",
       "      <td>3.0</td>\n",
       "      <td>10.0</td>\n",
       "      <td>8.285714</td>\n",
       "      <td>0.0</td>\n",
       "    </tr>\n",
       "    <tr>\n",
       "      <th>95410</th>\n",
       "      <td>4693</td>\n",
       "      <td>CA</td>\n",
       "      <td>XXXX</td>\n",
       "      <td></td>\n",
       "      <td>F</td>\n",
       "      <td>C1</td>\n",
       "      <td>7.0</td>\n",
       "      <td>H</td>\n",
       "      <td>2421</td>\n",
       "      <td>2459</td>\n",
       "      <td>11</td>\n",
       "      <td>10</td>\n",
       "      <td>552</td>\n",
       "      <td>544</td>\n",
       "      <td>568</td>\n",
       "      <td>556</td>\n",
       "      <td>15948</td>\n",
       "      <td></td>\n",
       "      <td>127</td>\n",
       "      <td>36</td>\n",
       "      <td>9</td>\n",
       "      <td>31</td>\n",
       "      <td>L4F</td>\n",
       "      <td>41</td>\n",
       "      <td>4.0</td>\n",
       "      <td>18.0</td>\n",
       "      <td>12.146341</td>\n",
       "      <td>18.0</td>\n",
       "    </tr>\n",
       "    <tr>\n",
       "      <th>95411</th>\n",
       "      <td>185114</td>\n",
       "      <td>NC</td>\n",
       "      <td>C1CM</td>\n",
       "      <td></td>\n",
       "      <td>F</td>\n",
       "      <td>C1</td>\n",
       "      <td>5.0</td>\n",
       "      <td>U</td>\n",
       "      <td>938</td>\n",
       "      <td>1049</td>\n",
       "      <td>5</td>\n",
       "      <td>5</td>\n",
       "      <td>451</td>\n",
       "      <td>474</td>\n",
       "      <td>499</td>\n",
       "      <td>519</td>\n",
       "      <td>16699</td>\n",
       "      <td></td>\n",
       "      <td>139</td>\n",
       "      <td>32</td>\n",
       "      <td>6</td>\n",
       "      <td>35</td>\n",
       "      <td>L1G</td>\n",
       "      <td>39</td>\n",
       "      <td>6.0</td>\n",
       "      <td>100.0</td>\n",
       "      <td>96.794872</td>\n",
       "      <td>0.0</td>\n",
       "    </tr>\n",
       "  </tbody>\n",
       "</table>\n",
       "<p>95412 rows × 28 columns</p>\n",
       "</div>\n",
       "      <button class=\"colab-df-convert\" onclick=\"convertToInteractive('df-f9b9f8e5-d010-47d9-ba4f-f4407b9e1ff2')\"\n",
       "              title=\"Convert this dataframe to an interactive table.\"\n",
       "              style=\"display:none;\">\n",
       "        \n",
       "  <svg xmlns=\"http://www.w3.org/2000/svg\" height=\"24px\"viewBox=\"0 0 24 24\"\n",
       "       width=\"24px\">\n",
       "    <path d=\"M0 0h24v24H0V0z\" fill=\"none\"/>\n",
       "    <path d=\"M18.56 5.44l.94 2.06.94-2.06 2.06-.94-2.06-.94-.94-2.06-.94 2.06-2.06.94zm-11 1L8.5 8.5l.94-2.06 2.06-.94-2.06-.94L8.5 2.5l-.94 2.06-2.06.94zm10 10l.94 2.06.94-2.06 2.06-.94-2.06-.94-.94-2.06-.94 2.06-2.06.94z\"/><path d=\"M17.41 7.96l-1.37-1.37c-.4-.4-.92-.59-1.43-.59-.52 0-1.04.2-1.43.59L10.3 9.45l-7.72 7.72c-.78.78-.78 2.05 0 2.83L4 21.41c.39.39.9.59 1.41.59.51 0 1.02-.2 1.41-.59l7.78-7.78 2.81-2.81c.8-.78.8-2.07 0-2.86zM5.41 20L4 18.59l7.72-7.72 1.47 1.35L5.41 20z\"/>\n",
       "  </svg>\n",
       "      </button>\n",
       "      \n",
       "  <style>\n",
       "    .colab-df-container {\n",
       "      display:flex;\n",
       "      flex-wrap:wrap;\n",
       "      gap: 12px;\n",
       "    }\n",
       "\n",
       "    .colab-df-convert {\n",
       "      background-color: #E8F0FE;\n",
       "      border: none;\n",
       "      border-radius: 50%;\n",
       "      cursor: pointer;\n",
       "      display: none;\n",
       "      fill: #1967D2;\n",
       "      height: 32px;\n",
       "      padding: 0 0 0 0;\n",
       "      width: 32px;\n",
       "    }\n",
       "\n",
       "    .colab-df-convert:hover {\n",
       "      background-color: #E2EBFA;\n",
       "      box-shadow: 0px 1px 2px rgba(60, 64, 67, 0.3), 0px 1px 3px 1px rgba(60, 64, 67, 0.15);\n",
       "      fill: #174EA6;\n",
       "    }\n",
       "\n",
       "    [theme=dark] .colab-df-convert {\n",
       "      background-color: #3B4455;\n",
       "      fill: #D2E3FC;\n",
       "    }\n",
       "\n",
       "    [theme=dark] .colab-df-convert:hover {\n",
       "      background-color: #434B5C;\n",
       "      box-shadow: 0px 1px 3px 1px rgba(0, 0, 0, 0.15);\n",
       "      filter: drop-shadow(0px 1px 2px rgba(0, 0, 0, 0.3));\n",
       "      fill: #FFFFFF;\n",
       "    }\n",
       "  </style>\n",
       "\n",
       "      <script>\n",
       "        const buttonEl =\n",
       "          document.querySelector('#df-f9b9f8e5-d010-47d9-ba4f-f4407b9e1ff2 button.colab-df-convert');\n",
       "        buttonEl.style.display =\n",
       "          google.colab.kernel.accessAllowed ? 'block' : 'none';\n",
       "\n",
       "        async function convertToInteractive(key) {\n",
       "          const element = document.querySelector('#df-f9b9f8e5-d010-47d9-ba4f-f4407b9e1ff2');\n",
       "          const dataTable =\n",
       "            await google.colab.kernel.invokeFunction('convertToInteractive',\n",
       "                                                     [key], {});\n",
       "          if (!dataTable) return;\n",
       "\n",
       "          const docLinkHtml = 'Like what you see? Visit the ' +\n",
       "            '<a target=\"_blank\" href=https://colab.research.google.com/notebooks/data_table.ipynb>data table notebook</a>'\n",
       "            + ' to learn more about interactive tables.';\n",
       "          element.innerHTML = '';\n",
       "          dataTable['output_type'] = 'display_data';\n",
       "          await google.colab.output.renderOutput(dataTable, element);\n",
       "          const docLink = document.createElement('div');\n",
       "          docLink.innerHTML = docLinkHtml;\n",
       "          element.appendChild(docLink);\n",
       "        }\n",
       "      </script>\n",
       "    </div>\n",
       "  </div>\n",
       "  "
      ],
      "text/plain": [
       "       CONTROLN STATE MDMAUD RECP3 GENDER DOMAIN  INCOME HOMEOWNR   HV1   HV2  \\\n",
       "0         95515    IL   XXXX            F     T2     NaN            479   635   \n",
       "1        148535    CA   XXXX            M     S1     6.0        H  5468  5218   \n",
       "2         15078    NC   XXXX            M     R2     3.0        U   497   546   \n",
       "3        172556    CA   XXXX            F     R2     1.0        U  1000  1263   \n",
       "4          7112    FL   XXXX     X      F     S2     3.0        H   576   594   \n",
       "...         ...   ...    ...   ...    ...    ...     ...      ...   ...   ...   \n",
       "95407    184568    AK   XXXX            M     C2     NaN            988  1025   \n",
       "95408    122706    TX   XXXX            M     C1     7.0        H  1679  1723   \n",
       "95409    189641    MI   XXXX     X      M     C3     NaN            376   377   \n",
       "95410      4693    CA   XXXX            F     C1     7.0        H  2421  2459   \n",
       "95411    185114    NC   C1CM            F     C1     5.0        U   938  1049   \n",
       "\n",
       "       HV3  HV4   IC1   IC2   IC3   IC4    IC5 VETERANS  NUMPROM  CARDPROM  \\\n",
       "0        3    2   307   318   349   378  12883                74        27   \n",
       "1       12   10  1088  1096  1026  1037  36175                32        12   \n",
       "2        2    1   251   292   292   340  11576                63        26   \n",
       "3        2    1   386   388   396   423  15130                66        27   \n",
       "4        4    3   240   250   293   321   9836               113        43   \n",
       "...    ...  ...   ...   ...   ...   ...    ...      ...      ...       ...   \n",
       "95407    6    6   433   481   499   535  18807                14         6   \n",
       "95408    3    3   806   836   802   849  26538                10         4   \n",
       "95409    4    3   263   264   319   345  12178                33        14   \n",
       "95410   11   10   552   544   568   556  15948               127        36   \n",
       "95411    5    5   451   474   499   519  16699               139        32   \n",
       "\n",
       "       CARDPM12  NUMPRM12 RFA_2  NGIFTALL  TIMELAG  LASTGIFT    AVGGIFT  \\\n",
       "0             6        14   L4E        31      4.0      10.0   7.741935   \n",
       "1             6        13   L2G         3     18.0      25.0  15.666667   \n",
       "2             6        14   L4E        27     12.0       5.0   7.481481   \n",
       "3             6        14   L4E        16      9.0      10.0   6.812500   \n",
       "4            10        25   L2F        37     14.0      15.0   6.864865   \n",
       "...         ...       ...   ...       ...      ...       ...        ...   \n",
       "95407         5        12   L1G         1      NaN      25.0  25.000000   \n",
       "95408         3         8   L1F         1      NaN      20.0  20.000000   \n",
       "95409         7        17   L3E         7      3.0      10.0   8.285714   \n",
       "95410         9        31   L4F        41      4.0      18.0  12.146341   \n",
       "95411         6        35   L1G        39      6.0     100.0  96.794872   \n",
       "\n",
       "       TARGET_D  \n",
       "0           0.0  \n",
       "1           0.0  \n",
       "2           0.0  \n",
       "3           0.0  \n",
       "4           0.0  \n",
       "...         ...  \n",
       "95407       0.0  \n",
       "95408       0.0  \n",
       "95409       0.0  \n",
       "95410      18.0  \n",
       "95411       0.0  \n",
       "\n",
       "[95412 rows x 28 columns]"
      ]
     },
     "execution_count": 3,
     "metadata": {},
     "output_type": "execute_result"
    }
   ],
   "source": [
    "data = pd.read_excel('/content/drive/MyDrive/Ironhack/dapt_rmt_may_23/unit 4/4.01_dataset.xlsx')\n",
    "data#.head()"
   ]
  },
  {
   "cell_type": "code",
   "execution_count": 4,
   "metadata": {
    "colab": {
     "base_uri": "https://localhost:8080/"
    },
    "executionInfo": {
     "elapsed": 6,
     "status": "ok",
     "timestamp": 1687881815429,
     "user": {
      "displayName": "Felipe Rocha",
      "userId": "13209801955446981393"
     },
     "user_tz": -60
    },
    "id": "9vNM6Tcfg4_L",
    "outputId": "b896e932-869a-4e87-e444-0f5b62e06361"
   },
   "outputs": [
    {
     "data": {
      "text/plain": [
       "(95412, 28)"
      ]
     },
     "execution_count": 4,
     "metadata": {},
     "output_type": "execute_result"
    }
   ],
   "source": [
    "data.shape"
   ]
  },
  {
   "cell_type": "code",
   "execution_count": 5,
   "metadata": {
    "colab": {
     "base_uri": "https://localhost:8080/",
     "height": 364
    },
    "executionInfo": {
     "elapsed": 6,
     "status": "ok",
     "timestamp": 1687881815430,
     "user": {
      "displayName": "Felipe Rocha",
      "userId": "13209801955446981393"
     },
     "user_tz": -60
    },
    "id": "BSyDJlwbg4_M",
    "outputId": "fb0109db-9637-4c80-9962-1aee551042fb"
   },
   "outputs": [
    {
     "data": {
      "text/html": [
       "\n",
       "  <div id=\"df-6ed2ef31-f770-4f75-a453-3800f38d8b21\">\n",
       "    <div class=\"colab-df-container\">\n",
       "      <div>\n",
       "<style scoped>\n",
       "    .dataframe tbody tr th:only-of-type {\n",
       "        vertical-align: middle;\n",
       "    }\n",
       "\n",
       "    .dataframe tbody tr th {\n",
       "        vertical-align: top;\n",
       "    }\n",
       "\n",
       "    .dataframe thead th {\n",
       "        text-align: right;\n",
       "    }\n",
       "</style>\n",
       "<table border=\"1\" class=\"dataframe\">\n",
       "  <thead>\n",
       "    <tr style=\"text-align: right;\">\n",
       "      <th></th>\n",
       "      <th>CONTROLN</th>\n",
       "      <th>INCOME</th>\n",
       "      <th>HV1</th>\n",
       "      <th>HV2</th>\n",
       "      <th>HV3</th>\n",
       "      <th>HV4</th>\n",
       "      <th>IC1</th>\n",
       "      <th>IC2</th>\n",
       "      <th>IC3</th>\n",
       "      <th>IC4</th>\n",
       "      <th>IC5</th>\n",
       "      <th>NUMPROM</th>\n",
       "      <th>CARDPROM</th>\n",
       "      <th>CARDPM12</th>\n",
       "      <th>NUMPRM12</th>\n",
       "      <th>NGIFTALL</th>\n",
       "      <th>TIMELAG</th>\n",
       "      <th>LASTGIFT</th>\n",
       "      <th>AVGGIFT</th>\n",
       "      <th>TARGET_D</th>\n",
       "    </tr>\n",
       "  </thead>\n",
       "  <tbody>\n",
       "    <tr>\n",
       "      <th>count</th>\n",
       "      <td>95412.000000</td>\n",
       "      <td>74126.000000</td>\n",
       "      <td>95412.000000</td>\n",
       "      <td>95412.000000</td>\n",
       "      <td>95412.000000</td>\n",
       "      <td>95412.000000</td>\n",
       "      <td>95412.000000</td>\n",
       "      <td>95412.000000</td>\n",
       "      <td>95412.000000</td>\n",
       "      <td>95412.000000</td>\n",
       "      <td>95412.000000</td>\n",
       "      <td>95412.000000</td>\n",
       "      <td>95412.000000</td>\n",
       "      <td>95412.000000</td>\n",
       "      <td>95412.000000</td>\n",
       "      <td>95412.000000</td>\n",
       "      <td>85439.000000</td>\n",
       "      <td>95412.000000</td>\n",
       "      <td>95412.000000</td>\n",
       "      <td>95412.000000</td>\n",
       "    </tr>\n",
       "    <tr>\n",
       "      <th>mean</th>\n",
       "      <td>95778.176959</td>\n",
       "      <td>3.886248</td>\n",
       "      <td>1061.838238</td>\n",
       "      <td>1133.031086</td>\n",
       "      <td>4.224249</td>\n",
       "      <td>3.875886</td>\n",
       "      <td>340.056387</td>\n",
       "      <td>387.027114</td>\n",
       "      <td>387.418302</td>\n",
       "      <td>430.792961</td>\n",
       "      <td>15722.738230</td>\n",
       "      <td>46.973347</td>\n",
       "      <td>18.435144</td>\n",
       "      <td>5.348939</td>\n",
       "      <td>12.856936</td>\n",
       "      <td>9.602031</td>\n",
       "      <td>8.093739</td>\n",
       "      <td>17.313127</td>\n",
       "      <td>13.347786</td>\n",
       "      <td>0.793073</td>\n",
       "    </tr>\n",
       "    <tr>\n",
       "      <th>std</th>\n",
       "      <td>55284.596094</td>\n",
       "      <td>1.854960</td>\n",
       "      <td>941.765892</td>\n",
       "      <td>947.384618</td>\n",
       "      <td>2.307938</td>\n",
       "      <td>2.244389</td>\n",
       "      <td>162.883283</td>\n",
       "      <td>173.614627</td>\n",
       "      <td>161.270738</td>\n",
       "      <td>171.643319</td>\n",
       "      <td>8563.646776</td>\n",
       "      <td>22.970378</td>\n",
       "      <td>8.583794</td>\n",
       "      <td>1.219785</td>\n",
       "      <td>4.544033</td>\n",
       "      <td>8.554342</td>\n",
       "      <td>8.213242</td>\n",
       "      <td>13.956630</td>\n",
       "      <td>10.769997</td>\n",
       "      <td>4.429725</td>\n",
       "    </tr>\n",
       "    <tr>\n",
       "      <th>min</th>\n",
       "      <td>1.000000</td>\n",
       "      <td>1.000000</td>\n",
       "      <td>0.000000</td>\n",
       "      <td>0.000000</td>\n",
       "      <td>0.000000</td>\n",
       "      <td>0.000000</td>\n",
       "      <td>0.000000</td>\n",
       "      <td>0.000000</td>\n",
       "      <td>0.000000</td>\n",
       "      <td>0.000000</td>\n",
       "      <td>0.000000</td>\n",
       "      <td>4.000000</td>\n",
       "      <td>1.000000</td>\n",
       "      <td>0.000000</td>\n",
       "      <td>1.000000</td>\n",
       "      <td>1.000000</td>\n",
       "      <td>0.000000</td>\n",
       "      <td>0.000000</td>\n",
       "      <td>1.285714</td>\n",
       "      <td>0.000000</td>\n",
       "    </tr>\n",
       "    <tr>\n",
       "      <th>25%</th>\n",
       "      <td>47910.750000</td>\n",
       "      <td>2.000000</td>\n",
       "      <td>513.000000</td>\n",
       "      <td>555.000000</td>\n",
       "      <td>3.000000</td>\n",
       "      <td>2.000000</td>\n",
       "      <td>231.000000</td>\n",
       "      <td>274.000000</td>\n",
       "      <td>277.000000</td>\n",
       "      <td>314.000000</td>\n",
       "      <td>10788.000000</td>\n",
       "      <td>27.000000</td>\n",
       "      <td>11.000000</td>\n",
       "      <td>5.000000</td>\n",
       "      <td>11.000000</td>\n",
       "      <td>3.000000</td>\n",
       "      <td>4.000000</td>\n",
       "      <td>10.000000</td>\n",
       "      <td>8.384615</td>\n",
       "      <td>0.000000</td>\n",
       "    </tr>\n",
       "    <tr>\n",
       "      <th>50%</th>\n",
       "      <td>95681.500000</td>\n",
       "      <td>4.000000</td>\n",
       "      <td>737.000000</td>\n",
       "      <td>803.000000</td>\n",
       "      <td>4.000000</td>\n",
       "      <td>3.000000</td>\n",
       "      <td>310.000000</td>\n",
       "      <td>355.000000</td>\n",
       "      <td>354.000000</td>\n",
       "      <td>397.000000</td>\n",
       "      <td>13727.500000</td>\n",
       "      <td>47.000000</td>\n",
       "      <td>18.000000</td>\n",
       "      <td>6.000000</td>\n",
       "      <td>12.000000</td>\n",
       "      <td>7.000000</td>\n",
       "      <td>6.000000</td>\n",
       "      <td>15.000000</td>\n",
       "      <td>11.636364</td>\n",
       "      <td>0.000000</td>\n",
       "    </tr>\n",
       "    <tr>\n",
       "      <th>75%</th>\n",
       "      <td>143643.500000</td>\n",
       "      <td>5.000000</td>\n",
       "      <td>1213.000000</td>\n",
       "      <td>1328.250000</td>\n",
       "      <td>5.000000</td>\n",
       "      <td>5.000000</td>\n",
       "      <td>414.000000</td>\n",
       "      <td>465.000000</td>\n",
       "      <td>466.000000</td>\n",
       "      <td>514.000000</td>\n",
       "      <td>18169.000000</td>\n",
       "      <td>64.000000</td>\n",
       "      <td>25.000000</td>\n",
       "      <td>6.000000</td>\n",
       "      <td>13.000000</td>\n",
       "      <td>13.000000</td>\n",
       "      <td>11.000000</td>\n",
       "      <td>20.000000</td>\n",
       "      <td>15.477955</td>\n",
       "      <td>0.000000</td>\n",
       "    </tr>\n",
       "    <tr>\n",
       "      <th>max</th>\n",
       "      <td>191779.000000</td>\n",
       "      <td>7.000000</td>\n",
       "      <td>6000.000000</td>\n",
       "      <td>6000.000000</td>\n",
       "      <td>13.000000</td>\n",
       "      <td>13.000000</td>\n",
       "      <td>1500.000000</td>\n",
       "      <td>1500.000000</td>\n",
       "      <td>1500.000000</td>\n",
       "      <td>1500.000000</td>\n",
       "      <td>174523.000000</td>\n",
       "      <td>195.000000</td>\n",
       "      <td>61.000000</td>\n",
       "      <td>19.000000</td>\n",
       "      <td>78.000000</td>\n",
       "      <td>237.000000</td>\n",
       "      <td>1088.000000</td>\n",
       "      <td>1000.000000</td>\n",
       "      <td>1000.000000</td>\n",
       "      <td>200.000000</td>\n",
       "    </tr>\n",
       "  </tbody>\n",
       "</table>\n",
       "</div>\n",
       "      <button class=\"colab-df-convert\" onclick=\"convertToInteractive('df-6ed2ef31-f770-4f75-a453-3800f38d8b21')\"\n",
       "              title=\"Convert this dataframe to an interactive table.\"\n",
       "              style=\"display:none;\">\n",
       "        \n",
       "  <svg xmlns=\"http://www.w3.org/2000/svg\" height=\"24px\"viewBox=\"0 0 24 24\"\n",
       "       width=\"24px\">\n",
       "    <path d=\"M0 0h24v24H0V0z\" fill=\"none\"/>\n",
       "    <path d=\"M18.56 5.44l.94 2.06.94-2.06 2.06-.94-2.06-.94-.94-2.06-.94 2.06-2.06.94zm-11 1L8.5 8.5l.94-2.06 2.06-.94-2.06-.94L8.5 2.5l-.94 2.06-2.06.94zm10 10l.94 2.06.94-2.06 2.06-.94-2.06-.94-.94-2.06-.94 2.06-2.06.94z\"/><path d=\"M17.41 7.96l-1.37-1.37c-.4-.4-.92-.59-1.43-.59-.52 0-1.04.2-1.43.59L10.3 9.45l-7.72 7.72c-.78.78-.78 2.05 0 2.83L4 21.41c.39.39.9.59 1.41.59.51 0 1.02-.2 1.41-.59l7.78-7.78 2.81-2.81c.8-.78.8-2.07 0-2.86zM5.41 20L4 18.59l7.72-7.72 1.47 1.35L5.41 20z\"/>\n",
       "  </svg>\n",
       "      </button>\n",
       "      \n",
       "  <style>\n",
       "    .colab-df-container {\n",
       "      display:flex;\n",
       "      flex-wrap:wrap;\n",
       "      gap: 12px;\n",
       "    }\n",
       "\n",
       "    .colab-df-convert {\n",
       "      background-color: #E8F0FE;\n",
       "      border: none;\n",
       "      border-radius: 50%;\n",
       "      cursor: pointer;\n",
       "      display: none;\n",
       "      fill: #1967D2;\n",
       "      height: 32px;\n",
       "      padding: 0 0 0 0;\n",
       "      width: 32px;\n",
       "    }\n",
       "\n",
       "    .colab-df-convert:hover {\n",
       "      background-color: #E2EBFA;\n",
       "      box-shadow: 0px 1px 2px rgba(60, 64, 67, 0.3), 0px 1px 3px 1px rgba(60, 64, 67, 0.15);\n",
       "      fill: #174EA6;\n",
       "    }\n",
       "\n",
       "    [theme=dark] .colab-df-convert {\n",
       "      background-color: #3B4455;\n",
       "      fill: #D2E3FC;\n",
       "    }\n",
       "\n",
       "    [theme=dark] .colab-df-convert:hover {\n",
       "      background-color: #434B5C;\n",
       "      box-shadow: 0px 1px 3px 1px rgba(0, 0, 0, 0.15);\n",
       "      filter: drop-shadow(0px 1px 2px rgba(0, 0, 0, 0.3));\n",
       "      fill: #FFFFFF;\n",
       "    }\n",
       "  </style>\n",
       "\n",
       "      <script>\n",
       "        const buttonEl =\n",
       "          document.querySelector('#df-6ed2ef31-f770-4f75-a453-3800f38d8b21 button.colab-df-convert');\n",
       "        buttonEl.style.display =\n",
       "          google.colab.kernel.accessAllowed ? 'block' : 'none';\n",
       "\n",
       "        async function convertToInteractive(key) {\n",
       "          const element = document.querySelector('#df-6ed2ef31-f770-4f75-a453-3800f38d8b21');\n",
       "          const dataTable =\n",
       "            await google.colab.kernel.invokeFunction('convertToInteractive',\n",
       "                                                     [key], {});\n",
       "          if (!dataTable) return;\n",
       "\n",
       "          const docLinkHtml = 'Like what you see? Visit the ' +\n",
       "            '<a target=\"_blank\" href=https://colab.research.google.com/notebooks/data_table.ipynb>data table notebook</a>'\n",
       "            + ' to learn more about interactive tables.';\n",
       "          element.innerHTML = '';\n",
       "          dataTable['output_type'] = 'display_data';\n",
       "          await google.colab.output.renderOutput(dataTable, element);\n",
       "          const docLink = document.createElement('div');\n",
       "          docLink.innerHTML = docLinkHtml;\n",
       "          element.appendChild(docLink);\n",
       "        }\n",
       "      </script>\n",
       "    </div>\n",
       "  </div>\n",
       "  "
      ],
      "text/plain": [
       "            CONTROLN        INCOME           HV1           HV2           HV3  \\\n",
       "count   95412.000000  74126.000000  95412.000000  95412.000000  95412.000000   \n",
       "mean    95778.176959      3.886248   1061.838238   1133.031086      4.224249   \n",
       "std     55284.596094      1.854960    941.765892    947.384618      2.307938   \n",
       "min         1.000000      1.000000      0.000000      0.000000      0.000000   \n",
       "25%     47910.750000      2.000000    513.000000    555.000000      3.000000   \n",
       "50%     95681.500000      4.000000    737.000000    803.000000      4.000000   \n",
       "75%    143643.500000      5.000000   1213.000000   1328.250000      5.000000   \n",
       "max    191779.000000      7.000000   6000.000000   6000.000000     13.000000   \n",
       "\n",
       "                HV4           IC1           IC2           IC3           IC4  \\\n",
       "count  95412.000000  95412.000000  95412.000000  95412.000000  95412.000000   \n",
       "mean       3.875886    340.056387    387.027114    387.418302    430.792961   \n",
       "std        2.244389    162.883283    173.614627    161.270738    171.643319   \n",
       "min        0.000000      0.000000      0.000000      0.000000      0.000000   \n",
       "25%        2.000000    231.000000    274.000000    277.000000    314.000000   \n",
       "50%        3.000000    310.000000    355.000000    354.000000    397.000000   \n",
       "75%        5.000000    414.000000    465.000000    466.000000    514.000000   \n",
       "max       13.000000   1500.000000   1500.000000   1500.000000   1500.000000   \n",
       "\n",
       "                 IC5       NUMPROM      CARDPROM      CARDPM12      NUMPRM12  \\\n",
       "count   95412.000000  95412.000000  95412.000000  95412.000000  95412.000000   \n",
       "mean    15722.738230     46.973347     18.435144      5.348939     12.856936   \n",
       "std      8563.646776     22.970378      8.583794      1.219785      4.544033   \n",
       "min         0.000000      4.000000      1.000000      0.000000      1.000000   \n",
       "25%     10788.000000     27.000000     11.000000      5.000000     11.000000   \n",
       "50%     13727.500000     47.000000     18.000000      6.000000     12.000000   \n",
       "75%     18169.000000     64.000000     25.000000      6.000000     13.000000   \n",
       "max    174523.000000    195.000000     61.000000     19.000000     78.000000   \n",
       "\n",
       "           NGIFTALL       TIMELAG      LASTGIFT       AVGGIFT      TARGET_D  \n",
       "count  95412.000000  85439.000000  95412.000000  95412.000000  95412.000000  \n",
       "mean       9.602031      8.093739     17.313127     13.347786      0.793073  \n",
       "std        8.554342      8.213242     13.956630     10.769997      4.429725  \n",
       "min        1.000000      0.000000      0.000000      1.285714      0.000000  \n",
       "25%        3.000000      4.000000     10.000000      8.384615      0.000000  \n",
       "50%        7.000000      6.000000     15.000000     11.636364      0.000000  \n",
       "75%       13.000000     11.000000     20.000000     15.477955      0.000000  \n",
       "max      237.000000   1088.000000   1000.000000   1000.000000    200.000000  "
      ]
     },
     "execution_count": 5,
     "metadata": {},
     "output_type": "execute_result"
    }
   ],
   "source": [
    "data.describe()"
   ]
  },
  {
   "cell_type": "code",
   "execution_count": 6,
   "metadata": {
    "colab": {
     "base_uri": "https://localhost:8080/",
     "height": 112
    },
    "executionInfo": {
     "elapsed": 298,
     "status": "ok",
     "timestamp": 1687881815723,
     "user": {
      "displayName": "Felipe Rocha",
      "userId": "13209801955446981393"
     },
     "user_tz": -60
    },
    "id": "jTKF5omxg4_M",
    "outputId": "cd8593dd-8aeb-4e12-d883-c742dfc1269c"
   },
   "outputs": [
    {
     "data": {
      "text/html": [
       "\n",
       "  <div id=\"df-bbf94fed-8992-4414-aace-1d2b4a281037\">\n",
       "    <div class=\"colab-df-container\">\n",
       "      <div>\n",
       "<style scoped>\n",
       "    .dataframe tbody tr th:only-of-type {\n",
       "        vertical-align: middle;\n",
       "    }\n",
       "\n",
       "    .dataframe tbody tr th {\n",
       "        vertical-align: top;\n",
       "    }\n",
       "\n",
       "    .dataframe thead th {\n",
       "        text-align: right;\n",
       "    }\n",
       "</style>\n",
       "<table border=\"1\" class=\"dataframe\">\n",
       "  <thead>\n",
       "    <tr style=\"text-align: right;\">\n",
       "      <th></th>\n",
       "      <th>percentage</th>\n",
       "    </tr>\n",
       "  </thead>\n",
       "  <tbody>\n",
       "    <tr>\n",
       "      <th>INCOME</th>\n",
       "      <td>22.309563</td>\n",
       "    </tr>\n",
       "    <tr>\n",
       "      <th>TIMELAG</th>\n",
       "      <td>10.452564</td>\n",
       "    </tr>\n",
       "  </tbody>\n",
       "</table>\n",
       "</div>\n",
       "      <button class=\"colab-df-convert\" onclick=\"convertToInteractive('df-bbf94fed-8992-4414-aace-1d2b4a281037')\"\n",
       "              title=\"Convert this dataframe to an interactive table.\"\n",
       "              style=\"display:none;\">\n",
       "        \n",
       "  <svg xmlns=\"http://www.w3.org/2000/svg\" height=\"24px\"viewBox=\"0 0 24 24\"\n",
       "       width=\"24px\">\n",
       "    <path d=\"M0 0h24v24H0V0z\" fill=\"none\"/>\n",
       "    <path d=\"M18.56 5.44l.94 2.06.94-2.06 2.06-.94-2.06-.94-.94-2.06-.94 2.06-2.06.94zm-11 1L8.5 8.5l.94-2.06 2.06-.94-2.06-.94L8.5 2.5l-.94 2.06-2.06.94zm10 10l.94 2.06.94-2.06 2.06-.94-2.06-.94-.94-2.06-.94 2.06-2.06.94z\"/><path d=\"M17.41 7.96l-1.37-1.37c-.4-.4-.92-.59-1.43-.59-.52 0-1.04.2-1.43.59L10.3 9.45l-7.72 7.72c-.78.78-.78 2.05 0 2.83L4 21.41c.39.39.9.59 1.41.59.51 0 1.02-.2 1.41-.59l7.78-7.78 2.81-2.81c.8-.78.8-2.07 0-2.86zM5.41 20L4 18.59l7.72-7.72 1.47 1.35L5.41 20z\"/>\n",
       "  </svg>\n",
       "      </button>\n",
       "      \n",
       "  <style>\n",
       "    .colab-df-container {\n",
       "      display:flex;\n",
       "      flex-wrap:wrap;\n",
       "      gap: 12px;\n",
       "    }\n",
       "\n",
       "    .colab-df-convert {\n",
       "      background-color: #E8F0FE;\n",
       "      border: none;\n",
       "      border-radius: 50%;\n",
       "      cursor: pointer;\n",
       "      display: none;\n",
       "      fill: #1967D2;\n",
       "      height: 32px;\n",
       "      padding: 0 0 0 0;\n",
       "      width: 32px;\n",
       "    }\n",
       "\n",
       "    .colab-df-convert:hover {\n",
       "      background-color: #E2EBFA;\n",
       "      box-shadow: 0px 1px 2px rgba(60, 64, 67, 0.3), 0px 1px 3px 1px rgba(60, 64, 67, 0.15);\n",
       "      fill: #174EA6;\n",
       "    }\n",
       "\n",
       "    [theme=dark] .colab-df-convert {\n",
       "      background-color: #3B4455;\n",
       "      fill: #D2E3FC;\n",
       "    }\n",
       "\n",
       "    [theme=dark] .colab-df-convert:hover {\n",
       "      background-color: #434B5C;\n",
       "      box-shadow: 0px 1px 3px 1px rgba(0, 0, 0, 0.15);\n",
       "      filter: drop-shadow(0px 1px 2px rgba(0, 0, 0, 0.3));\n",
       "      fill: #FFFFFF;\n",
       "    }\n",
       "  </style>\n",
       "\n",
       "      <script>\n",
       "        const buttonEl =\n",
       "          document.querySelector('#df-bbf94fed-8992-4414-aace-1d2b4a281037 button.colab-df-convert');\n",
       "        buttonEl.style.display =\n",
       "          google.colab.kernel.accessAllowed ? 'block' : 'none';\n",
       "\n",
       "        async function convertToInteractive(key) {\n",
       "          const element = document.querySelector('#df-bbf94fed-8992-4414-aace-1d2b4a281037');\n",
       "          const dataTable =\n",
       "            await google.colab.kernel.invokeFunction('convertToInteractive',\n",
       "                                                     [key], {});\n",
       "          if (!dataTable) return;\n",
       "\n",
       "          const docLinkHtml = 'Like what you see? Visit the ' +\n",
       "            '<a target=\"_blank\" href=https://colab.research.google.com/notebooks/data_table.ipynb>data table notebook</a>'\n",
       "            + ' to learn more about interactive tables.';\n",
       "          element.innerHTML = '';\n",
       "          dataTable['output_type'] = 'display_data';\n",
       "          await google.colab.output.renderOutput(dataTable, element);\n",
       "          const docLink = document.createElement('div');\n",
       "          docLink.innerHTML = docLinkHtml;\n",
       "          element.appendChild(docLink);\n",
       "        }\n",
       "      </script>\n",
       "    </div>\n",
       "  </div>\n",
       "  "
      ],
      "text/plain": [
       "         percentage\n",
       "INCOME    22.309563\n",
       "TIMELAG   10.452564"
      ]
     },
     "execution_count": 6,
     "metadata": {},
     "output_type": "execute_result"
    }
   ],
   "source": [
    "# Checking for nulls:\n",
    "nulls = pd.DataFrame(data.isna().sum()*100/len(data), columns=['percentage'])\n",
    "nulls[nulls['percentage'] > 0].sort_values('percentage', ascending = False)"
   ]
  },
  {
   "cell_type": "markdown",
   "metadata": {
    "id": "x_X3-rW5g4_N"
   },
   "source": [
    "The columns might be important factors in predicting the gift value, so even though it has a lot of null values, we will not drop them, at least not before checking correlations."
   ]
  },
  {
   "cell_type": "code",
   "execution_count": 1,
   "metadata": {
    "colab": {
     "base_uri": "https://localhost:8080/"
    },
    "executionInfo": {
     "elapsed": 11,
     "status": "ok",
     "timestamp": 1687881815724,
     "user": {
      "displayName": "Felipe Rocha",
      "userId": "13209801955446981393"
     },
     "user_tz": -60
    },
    "id": "fDqHKEx7g4_N",
    "outputId": "827c226d-6df6-4324-d49d-9a83699e4234",
    "scrolled": true
   },
   "outputs": [
    {
     "ename": "NameError",
     "evalue": "name 'data' is not defined",
     "output_type": "error",
     "traceback": [
      "\u001b[1;31m---------------------------------------------------------------------------\u001b[0m",
      "\u001b[1;31mNameError\u001b[0m                                 Traceback (most recent call last)",
      "Cell \u001b[1;32mIn[1], line 2\u001b[0m\n\u001b[0;32m      1\u001b[0m \u001b[38;5;66;03m# Checking correlations with the target:\u001b[39;00m\n\u001b[1;32m----> 2\u001b[0m \u001b[43mdata\u001b[49m\u001b[38;5;241m.\u001b[39mcorr()[\u001b[38;5;124m'\u001b[39m\u001b[38;5;124mTARGET_D\u001b[39m\u001b[38;5;124m'\u001b[39m]\u001b[38;5;241m.\u001b[39msort_values(ascending\u001b[38;5;241m=\u001b[39m\u001b[38;5;28;01mFalse\u001b[39;00m)\n",
      "\u001b[1;31mNameError\u001b[0m: name 'data' is not defined"
     ]
    }
   ],
   "source": [
    "# Checking correlations with the target:\n",
    "data.corr()['TARGET_D'].sort_values(ascending=False)"
   ]
  },
  {
   "cell_type": "code",
   "execution_count": 8,
   "metadata": {
    "colab": {
     "base_uri": "https://localhost:8080/"
    },
    "executionInfo": {
     "elapsed": 11,
     "status": "ok",
     "timestamp": 1687881815724,
     "user": {
      "displayName": "Felipe Rocha",
      "userId": "13209801955446981393"
     },
     "user_tz": -60
    },
    "id": "0dWIhq2tg4_O",
    "outputId": "d04f7eab-4401-4b0c-d964-bba51cb9a1cc"
   },
   "outputs": [
    {
     "data": {
      "text/plain": [
       "INCOME     0.032063\n",
       "TIMELAG    0.003612\n",
       "Name: TARGET_D, dtype: float64"
      ]
     },
     "execution_count": 8,
     "metadata": {},
     "output_type": "execute_result"
    }
   ],
   "source": [
    "data.corr()['TARGET_D'][['INCOME', 'TIMELAG']]"
   ]
  },
  {
   "cell_type": "markdown",
   "metadata": {
    "id": "4S4gXlrmg4_O"
   },
   "source": [
    "## Dealing with NaNs"
   ]
  },
  {
   "cell_type": "markdown",
   "metadata": {
    "id": "8PlBgSFlg4_O"
   },
   "source": [
    "What are some ways to cope with the null values? When should you use each one?\n",
    "\n",
    "1 - We might loose up to ~32% of the data if dropping the NaNs (rows). The trade-off here is between the amount of data vs data quality.\n",
    "\n",
    "2 - The columns have some correlation with the target (comparatively) so I wouldn't drop them. The trade-off here is between the feature importance vs data quality.\n",
    "\n",
    "3 - To contain the data quality decrease when \"making up\" data, I wouldn't transform the NaNs into zeros for TimeLag. Using the mean/median will \"maintain\" our distributions. (I like mean, but median might work better if you have expressive outliers)\n",
    "\n",
    "4 - For Income, we could fill the NaNs with 0, since the minimum value for Income in the df is 1 and we'd expect people without income. Therefore we assume that the NaNs are from people without income.\n",
    "\n",
    "5 - You can also use Interpolation techniques - using information from other columns/rows to find the value to replace."
   ]
  },
  {
   "cell_type": "markdown",
   "metadata": {
    "id": "eI0fhhXXg4_O"
   },
   "source": [
    "### Filling NaNs for categorical columns"
   ]
  },
  {
   "cell_type": "markdown",
   "metadata": {
    "id": "z6pvKbeng4_O"
   },
   "source": [
    "How could we find out gender value when this field is null?"
   ]
  },
  {
   "cell_type": "code",
   "execution_count": 9,
   "metadata": {
    "colab": {
     "base_uri": "https://localhost:8080/"
    },
    "executionInfo": {
     "elapsed": 9,
     "status": "ok",
     "timestamp": 1687881815724,
     "user": {
      "displayName": "Felipe Rocha",
      "userId": "13209801955446981393"
     },
     "user_tz": -60
    },
    "id": "nW48j3UHg4_O",
    "outputId": "1d700b45-2f43-4a13-84b7-5e2684645364"
   },
   "outputs": [
    {
     "data": {
      "text/plain": [
       "F    51277\n",
       "M    39094\n",
       "      2957\n",
       "U     1715\n",
       "J      365\n",
       "C        2\n",
       "A        2\n",
       "Name: GENDER, dtype: int64"
      ]
     },
     "execution_count": 9,
     "metadata": {},
     "output_type": "execute_result"
    }
   ],
   "source": [
    "data['GENDER'].value_counts()"
   ]
  },
  {
   "cell_type": "code",
   "execution_count": 10,
   "metadata": {
    "colab": {
     "base_uri": "https://localhost:8080/"
    },
    "executionInfo": {
     "elapsed": 8,
     "status": "ok",
     "timestamp": 1687881815724,
     "user": {
      "displayName": "Felipe Rocha",
      "userId": "13209801955446981393"
     },
     "user_tz": -60
    },
    "id": "LjM9Bpvqg4_P",
    "outputId": "523513fb-7679-4909-e1f8-ec3cc358f636"
   },
   "outputs": [
    {
     "data": {
      "text/plain": [
       "F    51277\n",
       "M    39094\n",
       "O     5041\n",
       "Name: GENDER, dtype: int64"
      ]
     },
     "execution_count": 10,
     "metadata": {},
     "output_type": "execute_result"
    }
   ],
   "source": [
    "data['GENDER'] = data['GENDER'].apply(lambda x: x if x in ['M', 'F'] else 'O')\n",
    "\n",
    "data['GENDER'].value_counts()\n",
    "\n",
    "# Another option would have been to fill the nans with the mode (highest count category, in this case F)"
   ]
  },
  {
   "cell_type": "markdown",
   "metadata": {
    "id": "NINDu6D3g4_P"
   },
   "source": [
    "The Homeownership has two values [H = Homeowner, U = Unknown]. If you had to fill null values, how would it be?"
   ]
  },
  {
   "cell_type": "code",
   "execution_count": 11,
   "metadata": {
    "colab": {
     "base_uri": "https://localhost:8080/"
    },
    "executionInfo": {
     "elapsed": 7,
     "status": "ok",
     "timestamp": 1687881815725,
     "user": {
      "displayName": "Felipe Rocha",
      "userId": "13209801955446981393"
     },
     "user_tz": -60
    },
    "id": "7KAx7OZAg4_P",
    "outputId": "ecb80120-704d-45f3-9f34-342e99cf112a",
    "scrolled": true
   },
   "outputs": [
    {
     "data": {
      "text/plain": [
       "H    52354\n",
       "     22228\n",
       "U    20830\n",
       "Name: HOMEOWNR, dtype: int64"
      ]
     },
     "execution_count": 11,
     "metadata": {},
     "output_type": "execute_result"
    }
   ],
   "source": [
    "data['HOMEOWNR'].value_counts()"
   ]
  },
  {
   "cell_type": "markdown",
   "metadata": {
    "id": "tt1N7Pa6g4_P"
   },
   "source": [
    "In this case, makes sense that the missing data is converted to U (unknown), since it is a class that already exists and if the value is missing you don't know if the person is a home owner."
   ]
  },
  {
   "cell_type": "code",
   "execution_count": 12,
   "metadata": {
    "colab": {
     "base_uri": "https://localhost:8080/"
    },
    "executionInfo": {
     "elapsed": 6,
     "status": "ok",
     "timestamp": 1687881815725,
     "user": {
      "displayName": "Felipe Rocha",
      "userId": "13209801955446981393"
     },
     "user_tz": -60
    },
    "id": "CKQ_-OR6g4_P",
    "outputId": "ffd0ff3c-f736-4f86-abcb-5b1e46e976f7"
   },
   "outputs": [
    {
     "data": {
      "text/plain": [
       "H    52354\n",
       "U    43058\n",
       "Name: HOMEOWNR, dtype: int64"
      ]
     },
     "execution_count": 12,
     "metadata": {},
     "output_type": "execute_result"
    }
   ],
   "source": [
    "data['HOMEOWNR'] = np.where(data['HOMEOWNR'] != 'H', 'U', 'H')\n",
    "data['HOMEOWNR'].value_counts()"
   ]
  },
  {
   "cell_type": "markdown",
   "metadata": {
    "id": "MzLzfl7Xg4_Q"
   },
   "source": [
    "### Filling NaNs for numerical columns"
   ]
  },
  {
   "cell_type": "markdown",
   "metadata": {
    "id": "zmousaQUg4_Q"
   },
   "source": [
    "#### Using Mean or Median"
   ]
  },
  {
   "cell_type": "code",
   "execution_count": 13,
   "metadata": {
    "colab": {
     "base_uri": "https://localhost:8080/",
     "height": 447
    },
    "executionInfo": {
     "elapsed": 223,
     "status": "ok",
     "timestamp": 1687881815944,
     "user": {
      "displayName": "Felipe Rocha",
      "userId": "13209801955446981393"
     },
     "user_tz": -60
    },
    "id": "jEb76yCIg4_Q",
    "outputId": "0a8dc122-3690-44b4-8cb2-dc0d72c1ee55"
   },
   "outputs": [
    {
     "data": {
      "text/plain": [
       "<Axes: >"
      ]
     },
     "execution_count": 13,
     "metadata": {},
     "output_type": "execute_result"
    },
    {
     "data": {
      "image/png": "[encoded data removed]",
      "text/plain": [
       "<Figure size 640x480 with 1 Axes>"
      ]
     },
     "metadata": {},
     "output_type": "display_data"
    }
   ],
   "source": [
    "# best plot to check for outliers\n",
    "sns.boxplot(data['TIMELAG'])"
   ]
  },
  {
   "cell_type": "code",
   "execution_count": 14,
   "metadata": {
    "colab": {
     "base_uri": "https://localhost:8080/"
    },
    "executionInfo": {
     "elapsed": 12,
     "status": "ok",
     "timestamp": 1687881815944,
     "user": {
      "displayName": "Felipe Rocha",
      "userId": "13209801955446981393"
     },
     "user_tz": -60
    },
    "id": "Yzs0J_RUg4_Q",
    "outputId": "224cf28c-3cf2-4cbd-fb53-b2f6cbb894c8"
   },
   "outputs": [
    {
     "data": {
      "text/plain": [
       "(6.0, 8.093739393017241)"
      ]
     },
     "execution_count": 14,
     "metadata": {},
     "output_type": "execute_result"
    }
   ],
   "source": [
    "data['TIMELAG'].median(), data['TIMELAG'].mean()"
   ]
  },
  {
   "cell_type": "code",
   "execution_count": 15,
   "metadata": {
    "executionInfo": {
     "elapsed": 8,
     "status": "ok",
     "timestamp": 1687881815944,
     "user": {
      "displayName": "Felipe Rocha",
      "userId": "13209801955446981393"
     },
     "user_tz": -60
    },
    "id": "Rxdy8nGrg4_Q"
   },
   "outputs": [],
   "source": [
    "# for 'TIMELAG' I'll choose median to replace the NaNs\n",
    "# since we have considerable outliers as we saw in .describe() and in the plot above\n",
    "data['TIMELAG'] = data['TIMELAG'].fillna(data['TIMELAG'].median())"
   ]
  },
  {
   "cell_type": "markdown",
   "metadata": {
    "id": "3payTMGIg4_Q"
   },
   "source": [
    "#### Interpolation\n",
    "\n",
    "For interpolation techniques, the order of the row matter, so it might make sense to use them in specific cases. I don't see a column that could perfectly benefit from interpolation, so I'm using \"Income\" to demonstrate."
   ]
  },
  {
   "cell_type": "code",
   "execution_count": 16,
   "metadata": {
    "colab": {
     "base_uri": "https://localhost:8080/",
     "height": 447
    },
    "executionInfo": {
     "elapsed": 343,
     "status": "ok",
     "timestamp": 1687881816279,
     "user": {
      "displayName": "Felipe Rocha",
      "userId": "13209801955446981393"
     },
     "user_tz": -60
    },
    "id": "nhfohI3_g4_Q",
    "outputId": "17291531-bef3-45b3-e37f-951a116ae67c"
   },
   "outputs": [
    {
     "data": {
      "text/plain": [
       "<Axes: >"
      ]
     },
     "execution_count": 16,
     "metadata": {},
     "output_type": "execute_result"
    },
    {
     "data": {
      "image/png": "[encoded data removed]",
      "text/plain": [
       "<Figure size 640x480 with 1 Axes>"
      ]
     },
     "metadata": {},
     "output_type": "display_data"
    }
   ],
   "source": [
    "data['INCOME'][0:40].plot()"
   ]
  },
  {
   "cell_type": "code",
   "execution_count": 17,
   "metadata": {
    "colab": {
     "base_uri": "https://localhost:8080/",
     "height": 430
    },
    "executionInfo": {
     "elapsed": 371,
     "status": "ok",
     "timestamp": 1687881816645,
     "user": {
      "displayName": "Felipe Rocha",
      "userId": "13209801955446981393"
     },
     "user_tz": -60
    },
    "id": "Wzb9_wm1g4_R",
    "outputId": "bf7eabc0-e781-4d99-a865-753b115f4643"
   },
   "outputs": [
    {
     "data": {
      "image/png": "[encoded data removed]",
      "text/plain": [
       "<Figure size 640x480 with 1 Axes>"
      ]
     },
     "metadata": {},
     "output_type": "display_data"
    }
   ],
   "source": [
    "new_income_data = data['INCOME'][0:40].interpolate(method='linear')\n",
    "# linear interpolation assumes that the rate of change between the values is constant\n",
    "new_income_data.plot()\n",
    "plt.show()"
   ]
  },
  {
   "cell_type": "markdown",
   "metadata": {
    "id": "daAD1OTKg4_R"
   },
   "source": [
    "#### Comparing distributions to choose which technique to use:"
   ]
  },
  {
   "cell_type": "markdown",
   "metadata": {
    "id": "mc6rDXU6g4_R"
   },
   "source": [
    "It's not wise to make a decision based on 'how it looks on the plot'. When we learn about p-values we'll see how to check for normality with an actual metric.\n",
    "\n",
    "Want a better understanding of polynomial method? Here is something to [read](https://whatis.techtarget.com/definition/polynomial-interpolation)."
   ]
  },
  {
   "cell_type": "code",
   "execution_count": 18,
   "metadata": {
    "colab": {
     "base_uri": "https://localhost:8080/",
     "height": 430
    },
    "executionInfo": {
     "elapsed": 14,
     "status": "ok",
     "timestamp": 1687881816645,
     "user": {
      "displayName": "Felipe Rocha",
      "userId": "13209801955446981393"
     },
     "user_tz": -60
    },
    "id": "L04h2t8Jg4_R",
    "outputId": "fe599f0e-98c1-496b-866d-2d39e7d8c5de"
   },
   "outputs": [
    {
     "data": {
      "image/png": "[encoded data removed]",
      "text/plain": [
       "<Figure size 640x480 with 1 Axes>"
      ]
     },
     "metadata": {},
     "output_type": "display_data"
    }
   ],
   "source": [
    "# you can try different methods and check which ones are more normally distributed\n",
    "plt.hist(data['INCOME'].interpolate(method='polynomial', order=2), bins=20)\n",
    "plt.show()"
   ]
  },
  {
   "cell_type": "code",
   "execution_count": 19,
   "metadata": {
    "colab": {
     "base_uri": "https://localhost:8080/"
    },
    "executionInfo": {
     "elapsed": 15,
     "status": "ok",
     "timestamp": 1687881816646,
     "user": {
      "displayName": "Felipe Rocha",
      "userId": "13209801955446981393"
     },
     "user_tz": -60
    },
    "id": "mezI8Lrpg4_R",
    "outputId": "09fe8411-1b79-46ff-b93b-b4f2a384ac2d"
   },
   "outputs": [
    {
     "data": {
      "text/plain": [
       "5.0    15451\n",
       "2.0    13114\n",
       "4.0    12732\n",
       "1.0     9022\n",
       "3.0     8558\n",
       "6.0     7778\n",
       "7.0     7471\n",
       "Name: INCOME, dtype: int64"
      ]
     },
     "execution_count": 19,
     "metadata": {},
     "output_type": "execute_result"
    }
   ],
   "source": [
    "# Above we used interpolation on \"Income\" just for demonstration.\n",
    "# We will be replacing the nulls with 0, assuming that is what would the data be in \"real life\":\n",
    "data['INCOME'].value_counts()"
   ]
  },
  {
   "cell_type": "code",
   "execution_count": 20,
   "metadata": {
    "colab": {
     "base_uri": "https://localhost:8080/"
    },
    "executionInfo": {
     "elapsed": 6,
     "status": "ok",
     "timestamp": 1687881816646,
     "user": {
      "displayName": "Felipe Rocha",
      "userId": "13209801955446981393"
     },
     "user_tz": -60
    },
    "id": "xI8CViJHg4_R",
    "outputId": "d016648a-c37b-4239-f803-760e4c20d435"
   },
   "outputs": [
    {
     "data": {
      "text/plain": [
       "0"
      ]
     },
     "execution_count": 20,
     "metadata": {},
     "output_type": "execute_result"
    }
   ],
   "source": [
    "data['INCOME'] = data['INCOME'].fillna(0)\n",
    "data['INCOME'].isna().sum()"
   ]
  },
  {
   "cell_type": "markdown",
   "metadata": {
    "id": "QHjVgxbwg4_R"
   },
   "source": [
    "### Checking outliers"
   ]
  },
  {
   "cell_type": "markdown",
   "metadata": {
    "id": "QSIxOHPSg4_R"
   },
   "source": [
    "We start checking for outliers on the target variable:"
   ]
  },
  {
   "cell_type": "code",
   "execution_count": 21,
   "metadata": {
    "colab": {
     "base_uri": "https://localhost:8080/",
     "height": 430
    },
    "executionInfo": {
     "elapsed": 324,
     "status": "ok",
     "timestamp": 1687881816965,
     "user": {
      "displayName": "Felipe Rocha",
      "userId": "13209801955446981393"
     },
     "user_tz": -60
    },
    "id": "xzja67xCg4_S",
    "outputId": "289a79c8-a7ab-4340-cd56-2bb8bd2ad47f"
   },
   "outputs": [
    {
     "data": {
      "image/png": "[encoded data removed]",
      "text/plain": [
       "<Figure size 640x480 with 1 Axes>"
      ]
     },
     "metadata": {},
     "output_type": "display_data"
    }
   ],
   "source": [
    "# best plot to check for outliers\n",
    "sns.boxplot(data['TARGET_D'])\n",
    "plt.show()"
   ]
  },
  {
   "cell_type": "code",
   "execution_count": 22,
   "metadata": {
    "colab": {
     "base_uri": "https://localhost:8080/",
     "height": 466
    },
    "executionInfo": {
     "elapsed": 579,
     "status": "ok",
     "timestamp": 1687881817541,
     "user": {
      "displayName": "Felipe Rocha",
      "userId": "13209801955446981393"
     },
     "user_tz": -60
    },
    "id": "EuZm9Ppsg4_S",
    "outputId": "46973013-cab4-4b7c-f94e-ef2efaaddd1a"
   },
   "outputs": [
    {
     "data": {
      "text/plain": [
       "<Axes: xlabel='TARGET_D', ylabel='Density'>"
      ]
     },
     "execution_count": 22,
     "metadata": {},
     "output_type": "execute_result"
    },
    {
     "data": {
      "image/png": "[encoded data removed]",
      "text/plain": [
       "<Figure size 640x480 with 1 Axes>"
      ]
     },
     "metadata": {},
     "output_type": "display_data"
    }
   ],
   "source": [
    "# getting a better look at the distribution:\n",
    "sns.distplot(data['TARGET_D'])"
   ]
  },
  {
   "cell_type": "markdown",
   "metadata": {
    "id": "kUMc0jGJg4_S"
   },
   "source": [
    "We have a big spike at zeros, because most donors did not donate on the previous campaign."
   ]
  },
  {
   "cell_type": "code",
   "execution_count": 23,
   "metadata": {
    "colab": {
     "base_uri": "https://localhost:8080/",
     "height": 487
    },
    "executionInfo": {
     "elapsed": 8,
     "status": "ok",
     "timestamp": 1687881817542,
     "user": {
      "displayName": "Felipe Rocha",
      "userId": "13209801955446981393"
     },
     "user_tz": -60
    },
    "id": "FxHUMxPtg4_V",
    "outputId": "4b8ca6aa-1e22-41c7-a6ef-f82299c24664"
   },
   "outputs": [
    {
     "data": {
      "text/html": [
       "\n",
       "  <div id=\"df-95addd6b-e143-4265-af10-be82a395d96d\">\n",
       "    <div class=\"colab-df-container\">\n",
       "      <div>\n",
       "<style scoped>\n",
       "    .dataframe tbody tr th:only-of-type {\n",
       "        vertical-align: middle;\n",
       "    }\n",
       "\n",
       "    .dataframe tbody tr th {\n",
       "        vertical-align: top;\n",
       "    }\n",
       "\n",
       "    .dataframe thead th {\n",
       "        text-align: right;\n",
       "    }\n",
       "</style>\n",
       "<table border=\"1\" class=\"dataframe\">\n",
       "  <thead>\n",
       "    <tr style=\"text-align: right;\">\n",
       "      <th></th>\n",
       "      <th>CONTROLN</th>\n",
       "      <th>STATE</th>\n",
       "      <th>MDMAUD</th>\n",
       "      <th>RECP3</th>\n",
       "      <th>GENDER</th>\n",
       "      <th>DOMAIN</th>\n",
       "      <th>INCOME</th>\n",
       "      <th>HOMEOWNR</th>\n",
       "      <th>HV1</th>\n",
       "      <th>HV2</th>\n",
       "      <th>HV3</th>\n",
       "      <th>HV4</th>\n",
       "      <th>IC1</th>\n",
       "      <th>IC2</th>\n",
       "      <th>IC3</th>\n",
       "      <th>IC4</th>\n",
       "      <th>IC5</th>\n",
       "      <th>VETERANS</th>\n",
       "      <th>NUMPROM</th>\n",
       "      <th>CARDPROM</th>\n",
       "      <th>CARDPM12</th>\n",
       "      <th>NUMPRM12</th>\n",
       "      <th>RFA_2</th>\n",
       "      <th>NGIFTALL</th>\n",
       "      <th>TIMELAG</th>\n",
       "      <th>LASTGIFT</th>\n",
       "      <th>AVGGIFT</th>\n",
       "      <th>TARGET_D</th>\n",
       "    </tr>\n",
       "  </thead>\n",
       "  <tbody>\n",
       "    <tr>\n",
       "      <th>0</th>\n",
       "      <td>95515</td>\n",
       "      <td>IL</td>\n",
       "      <td>XXXX</td>\n",
       "      <td></td>\n",
       "      <td>F</td>\n",
       "      <td>T2</td>\n",
       "      <td>0.0</td>\n",
       "      <td>U</td>\n",
       "      <td>479</td>\n",
       "      <td>635</td>\n",
       "      <td>3</td>\n",
       "      <td>2</td>\n",
       "      <td>307</td>\n",
       "      <td>318</td>\n",
       "      <td>349</td>\n",
       "      <td>378</td>\n",
       "      <td>12883</td>\n",
       "      <td></td>\n",
       "      <td>74</td>\n",
       "      <td>27</td>\n",
       "      <td>6</td>\n",
       "      <td>14</td>\n",
       "      <td>L4E</td>\n",
       "      <td>31</td>\n",
       "      <td>4.0</td>\n",
       "      <td>10.0</td>\n",
       "      <td>7.741935</td>\n",
       "      <td>0.0</td>\n",
       "    </tr>\n",
       "    <tr>\n",
       "      <th>1</th>\n",
       "      <td>148535</td>\n",
       "      <td>CA</td>\n",
       "      <td>XXXX</td>\n",
       "      <td></td>\n",
       "      <td>M</td>\n",
       "      <td>S1</td>\n",
       "      <td>6.0</td>\n",
       "      <td>H</td>\n",
       "      <td>5468</td>\n",
       "      <td>5218</td>\n",
       "      <td>12</td>\n",
       "      <td>10</td>\n",
       "      <td>1088</td>\n",
       "      <td>1096</td>\n",
       "      <td>1026</td>\n",
       "      <td>1037</td>\n",
       "      <td>36175</td>\n",
       "      <td></td>\n",
       "      <td>32</td>\n",
       "      <td>12</td>\n",
       "      <td>6</td>\n",
       "      <td>13</td>\n",
       "      <td>L2G</td>\n",
       "      <td>3</td>\n",
       "      <td>18.0</td>\n",
       "      <td>25.0</td>\n",
       "      <td>15.666667</td>\n",
       "      <td>0.0</td>\n",
       "    </tr>\n",
       "    <tr>\n",
       "      <th>2</th>\n",
       "      <td>15078</td>\n",
       "      <td>NC</td>\n",
       "      <td>XXXX</td>\n",
       "      <td></td>\n",
       "      <td>M</td>\n",
       "      <td>R2</td>\n",
       "      <td>3.0</td>\n",
       "      <td>U</td>\n",
       "      <td>497</td>\n",
       "      <td>546</td>\n",
       "      <td>2</td>\n",
       "      <td>1</td>\n",
       "      <td>251</td>\n",
       "      <td>292</td>\n",
       "      <td>292</td>\n",
       "      <td>340</td>\n",
       "      <td>11576</td>\n",
       "      <td></td>\n",
       "      <td>63</td>\n",
       "      <td>26</td>\n",
       "      <td>6</td>\n",
       "      <td>14</td>\n",
       "      <td>L4E</td>\n",
       "      <td>27</td>\n",
       "      <td>12.0</td>\n",
       "      <td>5.0</td>\n",
       "      <td>7.481481</td>\n",
       "      <td>0.0</td>\n",
       "    </tr>\n",
       "    <tr>\n",
       "      <th>3</th>\n",
       "      <td>172556</td>\n",
       "      <td>CA</td>\n",
       "      <td>XXXX</td>\n",
       "      <td></td>\n",
       "      <td>F</td>\n",
       "      <td>R2</td>\n",
       "      <td>1.0</td>\n",
       "      <td>U</td>\n",
       "      <td>1000</td>\n",
       "      <td>1263</td>\n",
       "      <td>2</td>\n",
       "      <td>1</td>\n",
       "      <td>386</td>\n",
       "      <td>388</td>\n",
       "      <td>396</td>\n",
       "      <td>423</td>\n",
       "      <td>15130</td>\n",
       "      <td></td>\n",
       "      <td>66</td>\n",
       "      <td>27</td>\n",
       "      <td>6</td>\n",
       "      <td>14</td>\n",
       "      <td>L4E</td>\n",
       "      <td>16</td>\n",
       "      <td>9.0</td>\n",
       "      <td>10.0</td>\n",
       "      <td>6.812500</td>\n",
       "      <td>0.0</td>\n",
       "    </tr>\n",
       "    <tr>\n",
       "      <th>4</th>\n",
       "      <td>7112</td>\n",
       "      <td>FL</td>\n",
       "      <td>XXXX</td>\n",
       "      <td>X</td>\n",
       "      <td>F</td>\n",
       "      <td>S2</td>\n",
       "      <td>3.0</td>\n",
       "      <td>H</td>\n",
       "      <td>576</td>\n",
       "      <td>594</td>\n",
       "      <td>4</td>\n",
       "      <td>3</td>\n",
       "      <td>240</td>\n",
       "      <td>250</td>\n",
       "      <td>293</td>\n",
       "      <td>321</td>\n",
       "      <td>9836</td>\n",
       "      <td></td>\n",
       "      <td>113</td>\n",
       "      <td>43</td>\n",
       "      <td>10</td>\n",
       "      <td>25</td>\n",
       "      <td>L2F</td>\n",
       "      <td>37</td>\n",
       "      <td>14.0</td>\n",
       "      <td>15.0</td>\n",
       "      <td>6.864865</td>\n",
       "      <td>0.0</td>\n",
       "    </tr>\n",
       "    <tr>\n",
       "      <th>...</th>\n",
       "      <td>...</td>\n",
       "      <td>...</td>\n",
       "      <td>...</td>\n",
       "      <td>...</td>\n",
       "      <td>...</td>\n",
       "      <td>...</td>\n",
       "      <td>...</td>\n",
       "      <td>...</td>\n",
       "      <td>...</td>\n",
       "      <td>...</td>\n",
       "      <td>...</td>\n",
       "      <td>...</td>\n",
       "      <td>...</td>\n",
       "      <td>...</td>\n",
       "      <td>...</td>\n",
       "      <td>...</td>\n",
       "      <td>...</td>\n",
       "      <td>...</td>\n",
       "      <td>...</td>\n",
       "      <td>...</td>\n",
       "      <td>...</td>\n",
       "      <td>...</td>\n",
       "      <td>...</td>\n",
       "      <td>...</td>\n",
       "      <td>...</td>\n",
       "      <td>...</td>\n",
       "      <td>...</td>\n",
       "      <td>...</td>\n",
       "    </tr>\n",
       "    <tr>\n",
       "      <th>95406</th>\n",
       "      <td>35088</td>\n",
       "      <td>FL</td>\n",
       "      <td>XXXX</td>\n",
       "      <td></td>\n",
       "      <td>F</td>\n",
       "      <td>S2</td>\n",
       "      <td>6.0</td>\n",
       "      <td>H</td>\n",
       "      <td>733</td>\n",
       "      <td>875</td>\n",
       "      <td>4</td>\n",
       "      <td>3</td>\n",
       "      <td>285</td>\n",
       "      <td>288</td>\n",
       "      <td>333</td>\n",
       "      <td>334</td>\n",
       "      <td>11390</td>\n",
       "      <td></td>\n",
       "      <td>59</td>\n",
       "      <td>23</td>\n",
       "      <td>5</td>\n",
       "      <td>12</td>\n",
       "      <td>L4D</td>\n",
       "      <td>24</td>\n",
       "      <td>3.0</td>\n",
       "      <td>2.0</td>\n",
       "      <td>3.375000</td>\n",
       "      <td>0.0</td>\n",
       "    </tr>\n",
       "    <tr>\n",
       "      <th>95407</th>\n",
       "      <td>184568</td>\n",
       "      <td>AK</td>\n",
       "      <td>XXXX</td>\n",
       "      <td></td>\n",
       "      <td>M</td>\n",
       "      <td>C2</td>\n",
       "      <td>0.0</td>\n",
       "      <td>U</td>\n",
       "      <td>988</td>\n",
       "      <td>1025</td>\n",
       "      <td>6</td>\n",
       "      <td>6</td>\n",
       "      <td>433</td>\n",
       "      <td>481</td>\n",
       "      <td>499</td>\n",
       "      <td>535</td>\n",
       "      <td>18807</td>\n",
       "      <td></td>\n",
       "      <td>14</td>\n",
       "      <td>6</td>\n",
       "      <td>5</td>\n",
       "      <td>12</td>\n",
       "      <td>L1G</td>\n",
       "      <td>1</td>\n",
       "      <td>6.0</td>\n",
       "      <td>25.0</td>\n",
       "      <td>25.000000</td>\n",
       "      <td>0.0</td>\n",
       "    </tr>\n",
       "    <tr>\n",
       "      <th>95408</th>\n",
       "      <td>122706</td>\n",
       "      <td>TX</td>\n",
       "      <td>XXXX</td>\n",
       "      <td></td>\n",
       "      <td>M</td>\n",
       "      <td>C1</td>\n",
       "      <td>7.0</td>\n",
       "      <td>H</td>\n",
       "      <td>1679</td>\n",
       "      <td>1723</td>\n",
       "      <td>3</td>\n",
       "      <td>3</td>\n",
       "      <td>806</td>\n",
       "      <td>836</td>\n",
       "      <td>802</td>\n",
       "      <td>849</td>\n",
       "      <td>26538</td>\n",
       "      <td></td>\n",
       "      <td>10</td>\n",
       "      <td>4</td>\n",
       "      <td>3</td>\n",
       "      <td>8</td>\n",
       "      <td>L1F</td>\n",
       "      <td>1</td>\n",
       "      <td>6.0</td>\n",
       "      <td>20.0</td>\n",
       "      <td>20.000000</td>\n",
       "      <td>0.0</td>\n",
       "    </tr>\n",
       "    <tr>\n",
       "      <th>95409</th>\n",
       "      <td>189641</td>\n",
       "      <td>MI</td>\n",
       "      <td>XXXX</td>\n",
       "      <td>X</td>\n",
       "      <td>M</td>\n",
       "      <td>C3</td>\n",
       "      <td>0.0</td>\n",
       "      <td>U</td>\n",
       "      <td>376</td>\n",
       "      <td>377</td>\n",
       "      <td>4</td>\n",
       "      <td>3</td>\n",
       "      <td>263</td>\n",
       "      <td>264</td>\n",
       "      <td>319</td>\n",
       "      <td>345</td>\n",
       "      <td>12178</td>\n",
       "      <td></td>\n",
       "      <td>33</td>\n",
       "      <td>14</td>\n",
       "      <td>7</td>\n",
       "      <td>17</td>\n",
       "      <td>L3E</td>\n",
       "      <td>7</td>\n",
       "      <td>3.0</td>\n",
       "      <td>10.0</td>\n",
       "      <td>8.285714</td>\n",
       "      <td>0.0</td>\n",
       "    </tr>\n",
       "    <tr>\n",
       "      <th>95411</th>\n",
       "      <td>185114</td>\n",
       "      <td>NC</td>\n",
       "      <td>C1CM</td>\n",
       "      <td></td>\n",
       "      <td>F</td>\n",
       "      <td>C1</td>\n",
       "      <td>5.0</td>\n",
       "      <td>U</td>\n",
       "      <td>938</td>\n",
       "      <td>1049</td>\n",
       "      <td>5</td>\n",
       "      <td>5</td>\n",
       "      <td>451</td>\n",
       "      <td>474</td>\n",
       "      <td>499</td>\n",
       "      <td>519</td>\n",
       "      <td>16699</td>\n",
       "      <td></td>\n",
       "      <td>139</td>\n",
       "      <td>32</td>\n",
       "      <td>6</td>\n",
       "      <td>35</td>\n",
       "      <td>L1G</td>\n",
       "      <td>39</td>\n",
       "      <td>6.0</td>\n",
       "      <td>100.0</td>\n",
       "      <td>96.794872</td>\n",
       "      <td>0.0</td>\n",
       "    </tr>\n",
       "  </tbody>\n",
       "</table>\n",
       "<p>90569 rows × 28 columns</p>\n",
       "</div>\n",
       "      <button class=\"colab-df-convert\" onclick=\"convertToInteractive('df-95addd6b-e143-4265-af10-be82a395d96d')\"\n",
       "              title=\"Convert this dataframe to an interactive table.\"\n",
       "              style=\"display:none;\">\n",
       "        \n",
       "  <svg xmlns=\"http://www.w3.org/2000/svg\" height=\"24px\"viewBox=\"0 0 24 24\"\n",
       "       width=\"24px\">\n",
       "    <path d=\"M0 0h24v24H0V0z\" fill=\"none\"/>\n",
       "    <path d=\"M18.56 5.44l.94 2.06.94-2.06 2.06-.94-2.06-.94-.94-2.06-.94 2.06-2.06.94zm-11 1L8.5 8.5l.94-2.06 2.06-.94-2.06-.94L8.5 2.5l-.94 2.06-2.06.94zm10 10l.94 2.06.94-2.06 2.06-.94-2.06-.94-.94-2.06-.94 2.06-2.06.94z\"/><path d=\"M17.41 7.96l-1.37-1.37c-.4-.4-.92-.59-1.43-.59-.52 0-1.04.2-1.43.59L10.3 9.45l-7.72 7.72c-.78.78-.78 2.05 0 2.83L4 21.41c.39.39.9.59 1.41.59.51 0 1.02-.2 1.41-.59l7.78-7.78 2.81-2.81c.8-.78.8-2.07 0-2.86zM5.41 20L4 18.59l7.72-7.72 1.47 1.35L5.41 20z\"/>\n",
       "  </svg>\n",
       "      </button>\n",
       "      \n",
       "  <style>\n",
       "    .colab-df-container {\n",
       "      display:flex;\n",
       "      flex-wrap:wrap;\n",
       "      gap: 12px;\n",
       "    }\n",
       "\n",
       "    .colab-df-convert {\n",
       "      background-color: #E8F0FE;\n",
       "      border: none;\n",
       "      border-radius: 50%;\n",
       "      cursor: pointer;\n",
       "      display: none;\n",
       "      fill: #1967D2;\n",
       "      height: 32px;\n",
       "      padding: 0 0 0 0;\n",
       "      width: 32px;\n",
       "    }\n",
       "\n",
       "    .colab-df-convert:hover {\n",
       "      background-color: #E2EBFA;\n",
       "      box-shadow: 0px 1px 2px rgba(60, 64, 67, 0.3), 0px 1px 3px 1px rgba(60, 64, 67, 0.15);\n",
       "      fill: #174EA6;\n",
       "    }\n",
       "\n",
       "    [theme=dark] .colab-df-convert {\n",
       "      background-color: #3B4455;\n",
       "      fill: #D2E3FC;\n",
       "    }\n",
       "\n",
       "    [theme=dark] .colab-df-convert:hover {\n",
       "      background-color: #434B5C;\n",
       "      box-shadow: 0px 1px 3px 1px rgba(0, 0, 0, 0.15);\n",
       "      filter: drop-shadow(0px 1px 2px rgba(0, 0, 0, 0.3));\n",
       "      fill: #FFFFFF;\n",
       "    }\n",
       "  </style>\n",
       "\n",
       "      <script>\n",
       "        const buttonEl =\n",
       "          document.querySelector('#df-95addd6b-e143-4265-af10-be82a395d96d button.colab-df-convert');\n",
       "        buttonEl.style.display =\n",
       "          google.colab.kernel.accessAllowed ? 'block' : 'none';\n",
       "\n",
       "        async function convertToInteractive(key) {\n",
       "          const element = document.querySelector('#df-95addd6b-e143-4265-af10-be82a395d96d');\n",
       "          const dataTable =\n",
       "            await google.colab.kernel.invokeFunction('convertToInteractive',\n",
       "                                                     [key], {});\n",
       "          if (!dataTable) return;\n",
       "\n",
       "          const docLinkHtml = 'Like what you see? Visit the ' +\n",
       "            '<a target=\"_blank\" href=https://colab.research.google.com/notebooks/data_table.ipynb>data table notebook</a>'\n",
       "            + ' to learn more about interactive tables.';\n",
       "          element.innerHTML = '';\n",
       "          dataTable['output_type'] = 'display_data';\n",
       "          await google.colab.output.renderOutput(dataTable, element);\n",
       "          const docLink = document.createElement('div');\n",
       "          docLink.innerHTML = docLinkHtml;\n",
       "          element.appendChild(docLink);\n",
       "        }\n",
       "      </script>\n",
       "    </div>\n",
       "  </div>\n",
       "  "
      ],
      "text/plain": [
       "       CONTROLN STATE MDMAUD RECP3 GENDER DOMAIN  INCOME HOMEOWNR   HV1   HV2  \\\n",
       "0         95515    IL   XXXX            F     T2     0.0        U   479   635   \n",
       "1        148535    CA   XXXX            M     S1     6.0        H  5468  5218   \n",
       "2         15078    NC   XXXX            M     R2     3.0        U   497   546   \n",
       "3        172556    CA   XXXX            F     R2     1.0        U  1000  1263   \n",
       "4          7112    FL   XXXX     X      F     S2     3.0        H   576   594   \n",
       "...         ...   ...    ...   ...    ...    ...     ...      ...   ...   ...   \n",
       "95406     35088    FL   XXXX            F     S2     6.0        H   733   875   \n",
       "95407    184568    AK   XXXX            M     C2     0.0        U   988  1025   \n",
       "95408    122706    TX   XXXX            M     C1     7.0        H  1679  1723   \n",
       "95409    189641    MI   XXXX     X      M     C3     0.0        U   376   377   \n",
       "95411    185114    NC   C1CM            F     C1     5.0        U   938  1049   \n",
       "\n",
       "       HV3  HV4   IC1   IC2   IC3   IC4    IC5 VETERANS  NUMPROM  CARDPROM  \\\n",
       "0        3    2   307   318   349   378  12883                74        27   \n",
       "1       12   10  1088  1096  1026  1037  36175                32        12   \n",
       "2        2    1   251   292   292   340  11576                63        26   \n",
       "3        2    1   386   388   396   423  15130                66        27   \n",
       "4        4    3   240   250   293   321   9836               113        43   \n",
       "...    ...  ...   ...   ...   ...   ...    ...      ...      ...       ...   \n",
       "95406    4    3   285   288   333   334  11390                59        23   \n",
       "95407    6    6   433   481   499   535  18807                14         6   \n",
       "95408    3    3   806   836   802   849  26538                10         4   \n",
       "95409    4    3   263   264   319   345  12178                33        14   \n",
       "95411    5    5   451   474   499   519  16699               139        32   \n",
       "\n",
       "       CARDPM12  NUMPRM12 RFA_2  NGIFTALL  TIMELAG  LASTGIFT    AVGGIFT  \\\n",
       "0             6        14   L4E        31      4.0      10.0   7.741935   \n",
       "1             6        13   L2G         3     18.0      25.0  15.666667   \n",
       "2             6        14   L4E        27     12.0       5.0   7.481481   \n",
       "3             6        14   L4E        16      9.0      10.0   6.812500   \n",
       "4            10        25   L2F        37     14.0      15.0   6.864865   \n",
       "...         ...       ...   ...       ...      ...       ...        ...   \n",
       "95406         5        12   L4D        24      3.0       2.0   3.375000   \n",
       "95407         5        12   L1G         1      6.0      25.0  25.000000   \n",
       "95408         3         8   L1F         1      6.0      20.0  20.000000   \n",
       "95409         7        17   L3E         7      3.0      10.0   8.285714   \n",
       "95411         6        35   L1G        39      6.0     100.0  96.794872   \n",
       "\n",
       "       TARGET_D  \n",
       "0           0.0  \n",
       "1           0.0  \n",
       "2           0.0  \n",
       "3           0.0  \n",
       "4           0.0  \n",
       "...         ...  \n",
       "95406       0.0  \n",
       "95407       0.0  \n",
       "95408       0.0  \n",
       "95409       0.0  \n",
       "95411       0.0  \n",
       "\n",
       "[90569 rows x 28 columns]"
      ]
     },
     "execution_count": 23,
     "metadata": {},
     "output_type": "execute_result"
    }
   ],
   "source": [
    "# An interesting insight, is that about 95% of the donors, did not donate in the previous compaign\n",
    "data[data['TARGET_D'] == 0]"
   ]
  },
  {
   "cell_type": "code",
   "execution_count": 24,
   "metadata": {
    "colab": {
     "base_uri": "https://localhost:8080/",
     "height": 467
    },
    "executionInfo": {
     "elapsed": 387,
     "status": "ok",
     "timestamp": 1687881817921,
     "user": {
      "displayName": "Felipe Rocha",
      "userId": "13209801955446981393"
     },
     "user_tz": -60
    },
    "id": "luf_ropig4_W",
    "outputId": "aa791cce-9f15-46ff-9aec-c91815a136b9"
   },
   "outputs": [
    {
     "data": {
      "text/plain": [
       "<Axes: xlabel='TARGET_D', ylabel='Density'>"
      ]
     },
     "execution_count": 24,
     "metadata": {},
     "output_type": "execute_result"
    },
    {
     "data": {
      "image/png": "[encoded data removed]",
      "text/plain": [
       "<Figure size 640x480 with 1 Axes>"
      ]
     },
     "metadata": {},
     "output_type": "display_data"
    }
   ],
   "source": [
    "# So, let's take a look at the distribution without the zeros, to better determine outliers:\n",
    "sns.distplot(data[(data['TARGET_D'] > 0)]['TARGET_D']) #  & (data['TARGET_D'] < 50)"
   ]
  },
  {
   "cell_type": "code",
   "execution_count": 25,
   "metadata": {
    "colab": {
     "base_uri": "https://localhost:8080/"
    },
    "executionInfo": {
     "elapsed": 6,
     "status": "ok",
     "timestamp": 1687881817922,
     "user": {
      "displayName": "Felipe Rocha",
      "userId": "13209801955446981393"
     },
     "user_tz": -60
    },
    "id": "IHeaAe3ng4_W",
    "outputId": "8c7a6418-7309-4ef6-d9e2-d1923b3fc2d2"
   },
   "outputs": [
    {
     "name": "stdout",
     "output_type": "stream",
     "text": [
      "Donors: 4843\n",
      "Donations > 50: 46\n"
     ]
    }
   ],
   "source": [
    "# out of all the donors, very few donated above 50, so maybe we can consider those outliers:\n",
    "print(\"Donors:\", len(data[(data['TARGET_D'] > 0)]))\n",
    "print(\"Donations > 50:\", len(data[(data['TARGET_D'] > 0) & (data['TARGET_D'] > 50)]))"
   ]
  },
  {
   "cell_type": "markdown",
   "metadata": {
    "id": "mE2G-qQTg4_W"
   },
   "source": [
    "You can also check for outliers on the features, but I'd leave that for later and only if we really need it. Example:"
   ]
  },
  {
   "cell_type": "code",
   "execution_count": 26,
   "metadata": {
    "colab": {
     "base_uri": "https://localhost:8080/",
     "height": 430
    },
    "executionInfo": {
     "elapsed": 374,
     "status": "ok",
     "timestamp": 1687881818292,
     "user": {
      "displayName": "Felipe Rocha",
      "userId": "13209801955446981393"
     },
     "user_tz": -60
    },
    "id": "ypTUbB2Sg4_W",
    "outputId": "55d90ffb-5e61-41c6-d135-388bf11cb929"
   },
   "outputs": [
    {
     "data": {
      "image/png": "[encoded data removed]",
      "text/plain": [
       "<Figure size 640x480 with 1 Axes>"
      ]
     },
     "metadata": {},
     "output_type": "display_data"
    }
   ],
   "source": [
    "sns.boxplot(data['TIMELAG'])\n",
    "plt.show()"
   ]
  },
  {
   "cell_type": "markdown",
   "metadata": {
    "id": "Vi5FKSMPg4_W"
   },
   "source": [
    "The above plot could serve as some interesting insight about the timelag from last donation."
   ]
  },
  {
   "cell_type": "markdown",
   "metadata": {
    "id": "Gol_QwTig4_X"
   },
   "source": [
    "## Getting a benchmark model\n",
    "\n",
    "Before trying different scaling techniques and further \"improving\" our dataset, I like to get a benchmark to compare results and make sure that the changes we do in our dataset is actually improving our model.\n",
    "\n",
    "For the benchmark model I only deal with the nans and dummify the categoricals:"
   ]
  },
  {
   "cell_type": "code",
   "execution_count": 27,
   "metadata": {
    "colab": {
     "base_uri": "https://localhost:8080/"
    },
    "executionInfo": {
     "elapsed": 617,
     "status": "ok",
     "timestamp": 1687881818907,
     "user": {
      "displayName": "Felipe Rocha",
      "userId": "13209801955446981393"
     },
     "user_tz": -60
    },
    "id": "FKJk7f4Dg4_X",
    "outputId": "6c988c36-2ce1-4b58-ee3e-b97b6cb3ab49"
   },
   "outputs": [
    {
     "data": {
      "text/plain": [
       "0.00554480875855079"
      ]
     },
     "execution_count": 27,
     "metadata": {},
     "output_type": "execute_result"
    }
   ],
   "source": [
    "from sklearn.model_selection import train_test_split\n",
    "from sklearn.linear_model import LinearRegression\n",
    "\n",
    "X = pd.get_dummies(data.drop('TARGET_D', axis=1))\n",
    "y = data['TARGET_D']\n",
    "\n",
    "X_train, X_test, y_train, y_test = train_test_split(X, y, test_size=0.20, random_state=42)\n",
    "\n",
    "lr = LinearRegression()\n",
    "lr.fit(X_train, y_train)\n",
    "lr.score(X_test, y_test)"
   ]
  },
  {
   "cell_type": "markdown",
   "metadata": {
    "id": "OT_BqlITg4_X"
   },
   "source": [
    "For the first step, we might want to focus on the R2, since it will tell us how well the model fits the data, but don't forget that to really understand the errors from out model, we will also need other metrics, such as MAE and RMSE."
   ]
  },
  {
   "cell_type": "code",
   "execution_count": 28,
   "metadata": {
    "colab": {
     "base_uri": "https://localhost:8080/",
     "height": 466
    },
    "executionInfo": {
     "elapsed": 1070,
     "status": "ok",
     "timestamp": 1687881819975,
     "user": {
      "displayName": "Felipe Rocha",
      "userId": "13209801955446981393"
     },
     "user_tz": -60
    },
    "id": "QRRjGblRg4_X",
    "outputId": "68eda5b5-4c04-48a8-b47d-f411267c59fb"
   },
   "outputs": [
    {
     "data": {
      "text/plain": [
       "<Axes: xlabel='TARGET_D'>"
      ]
     },
     "execution_count": 28,
     "metadata": {},
     "output_type": "execute_result"
    },
    {
     "data": {
      "image/png": "[encoded data removed]",
      "text/plain": [
       "<Figure size 640x480 with 1 Axes>"
      ]
     },
     "metadata": {},
     "output_type": "display_data"
    }
   ],
   "source": [
    "sns.regplot(x=y_test, y=lr.predict(X_test))"
   ]
  },
  {
   "cell_type": "code",
   "execution_count": 29,
   "metadata": {
    "colab": {
     "base_uri": "https://localhost:8080/"
    },
    "executionInfo": {
     "elapsed": 5,
     "status": "ok",
     "timestamp": 1687881819975,
     "user": {
      "displayName": "Felipe Rocha",
      "userId": "13209801955446981393"
     },
     "user_tz": -60
    },
    "id": "dcBOAvkajl0p",
    "outputId": "1ac500f5-f890-4faa-ae4c-581ccd3ebe5b"
   },
   "outputs": [
    {
     "data": {
      "text/plain": [
       "0.6027139432630666"
      ]
     },
     "execution_count": 29,
     "metadata": {},
     "output_type": "execute_result"
    }
   ],
   "source": [
    "# R2 without the zeros:\n",
    "\n",
    "no_zeros = data[data[\"TARGET_D\"] > 0]\n",
    "X = pd.get_dummies(no_zeros.drop('TARGET_D', axis=1))\n",
    "y = no_zeros['TARGET_D']\n",
    "\n",
    "X_train, X_test, y_train, y_test = train_test_split(X, y, test_size=0.20, random_state=42)\n",
    "\n",
    "lr = LinearRegression()\n",
    "lr.fit(X_train, y_train)\n",
    "lr.score(X_test, y_test)"
   ]
  },
  {
   "cell_type": "code",
   "execution_count": 30,
   "metadata": {
    "colab": {
     "base_uri": "https://localhost:8080/",
     "height": 466
    },
    "executionInfo": {
     "elapsed": 591,
     "status": "ok",
     "timestamp": 1687881820563,
     "user": {
      "displayName": "Felipe Rocha",
      "userId": "13209801955446981393"
     },
     "user_tz": -60
    },
    "id": "LsHGidSajq67",
    "outputId": "6d804057-df90-46c0-aeec-9c7de21c2964"
   },
   "outputs": [
    {
     "data": {
      "text/plain": [
       "<Axes: xlabel='TARGET_D'>"
      ]
     },
     "execution_count": 30,
     "metadata": {},
     "output_type": "execute_result"
    },
    {
     "data": {
      "image/png": "[encoded data removed]",
      "text/plain": [
       "<Figure size 640x480 with 1 Axes>"
      ]
     },
     "metadata": {},
     "output_type": "display_data"
    }
   ],
   "source": [
    "sns.regplot(x=y_test, y=lr.predict(X_test))"
   ]
  },
  {
   "cell_type": "markdown",
   "metadata": {
    "id": "9tz3MhvZg4_X"
   },
   "source": [
    "**Early conclusions:**\n",
    "* Apparently, a big problem for this linear regression model is the huge amount of zeros we have, without them we could have decent results;\n",
    "* Considering the business case, we can make this into a classification problem, where instead of predicting the amount donated, we try to predict if it was donates or not. If predicting the amount is important for the business and depending on how well we can train the classification algorithm, we could train a regression model for those datapoints where a donation is predicted.\n",
    "* We might want to try other models rather then linear regression (research on zero-inflated models)."
   ]
  },
  {
   "cell_type": "markdown",
   "metadata": {
    "id": "hgXoBUdMg4_Y"
   },
   "source": [
    "### Feature Engineering\n",
    "Before deciding on dropping or not the outliers, make sure if it makes sense for your business case.\n",
    "Also, it might be a good idea to try scaling techniques that reduces the gaps between values, such as log or boxcox. These techniques might \"smoothen out\" the outliers."
   ]
  },
  {
   "cell_type": "markdown",
   "metadata": {
    "id": "jxz0_sWxg4_Y"
   },
   "source": [
    "#### Scaling\n",
    "\n",
    "Below there are three techniques for scaling, you would pick only one according to your dataset. Scaling helps the model to converge by decreasing the distance between the values, which might make training cheaper, so it might be a nice to have even when the model doesn't require it. Besides improving model computational performance, it might also increase the test metrics."
   ]
  },
  {
   "cell_type": "code",
   "execution_count": 31,
   "metadata": {
    "executionInfo": {
     "elapsed": 4,
     "status": "ok",
     "timestamp": 1687881820564,
     "user": {
      "displayName": "Felipe Rocha",
      "userId": "13209801955446981393"
     },
     "user_tz": -60
    },
    "id": "ocxklnNEg4_Y"
   },
   "outputs": [],
   "source": [
    "# considering my early conclusions, let's focus on the rows where there was a donation:\n",
    "data1 = data[data[\"TARGET_D\"] > 0]\n",
    "\n",
    "# apply log transformation on numerical values, since it will make the 'outliers' interval smaller\n",
    "# because we have a lot of zeros, and log of zero is undefined, we will add one to all values before scaling\n",
    "\n",
    "numericals_log = data1.select_dtypes(np.number)\n",
    "numericals_log = numericals_log.applymap(lambda x: np.log(x+1))"
   ]
  },
  {
   "cell_type": "markdown",
   "metadata": {
    "id": "p9yhh-KRg4_Y"
   },
   "source": [
    "Why log? Easier to see skewed/exponential data, since the log is the inverse of the exponential. Also, it decreases variability.\n"
   ]
  },
  {
   "cell_type": "code",
   "execution_count": 32,
   "metadata": {
    "colab": {
     "base_uri": "https://localhost:8080/",
     "height": 467
    },
    "executionInfo": {
     "elapsed": 315,
     "status": "ok",
     "timestamp": 1687881820876,
     "user": {
      "displayName": "Felipe Rocha",
      "userId": "13209801955446981393"
     },
     "user_tz": -60
    },
    "id": "-HtV0MrAg4_Y",
    "outputId": "bee8697c-b82f-4dc7-b117-95f54bd75763"
   },
   "outputs": [
    {
     "data": {
      "text/plain": [
       "<Axes: xlabel='TARGET_D', ylabel='Density'>"
      ]
     },
     "execution_count": 32,
     "metadata": {},
     "output_type": "execute_result"
    },
    {
     "data": {
      "image/png": "[encoded data removed]",
      "text/plain": [
       "<Figure size 640x480 with 1 Axes>"
      ]
     },
     "metadata": {},
     "output_type": "display_data"
    }
   ],
   "source": [
    "# before scaling:\n",
    "sns.distplot(data[data['TARGET_D'] > 0]['TARGET_D'])"
   ]
  },
  {
   "cell_type": "code",
   "execution_count": 33,
   "metadata": {
    "colab": {
     "base_uri": "https://localhost:8080/",
     "height": 466
    },
    "executionInfo": {
     "elapsed": 350,
     "status": "ok",
     "timestamp": 1687881821222,
     "user": {
      "displayName": "Felipe Rocha",
      "userId": "13209801955446981393"
     },
     "user_tz": -60
    },
    "id": "UzHDC8_Lg4_Z",
    "outputId": "9d02505c-416b-47e7-de24-5a07ee2c6768"
   },
   "outputs": [
    {
     "data": {
      "text/plain": [
       "<Axes: xlabel='TARGET_D', ylabel='Density'>"
      ]
     },
     "execution_count": 33,
     "metadata": {},
     "output_type": "execute_result"
    },
    {
     "data": {
      "image/png": "[encoded data removed]",
      "text/plain": [
       "<Figure size 640x480 with 1 Axes>"
      ]
     },
     "metadata": {},
     "output_type": "display_data"
    }
   ],
   "source": [
    "# after scaling:\n",
    "sns.distplot(numericals_log['TARGET_D'])"
   ]
  },
  {
   "cell_type": "markdown",
   "metadata": {
    "id": "OGNpNEkgg4_Z"
   },
   "source": [
    "Disclaimer: i filtered out the zeros from the two plots above so we could see the effect on the distribution of the column."
   ]
  },
  {
   "cell_type": "markdown",
   "metadata": {
    "id": "RLFkXUXYg4_Z"
   },
   "source": [
    "##### Standardization/Standard Scaler\n",
    "\n",
    "For each column, each value in the column is subtracted by the mean of the column and then divided by the standard deviation.\n",
    "\n",
    "Works row wise, so it takes information from the whole column. It is wise to do the train/test split beforehand.\n",
    "\n",
    "You will .fit() on the training set and then .transform() both (train and test)."
   ]
  },
  {
   "cell_type": "code",
   "execution_count": 34,
   "metadata": {
    "executionInfo": {
     "elapsed": 6,
     "status": "ok",
     "timestamp": 1687881821223,
     "user": {
      "displayName": "Felipe Rocha",
      "userId": "13209801955446981393"
     },
     "user_tz": -60
    },
    "id": "rK6DBa-ng4_Z"
   },
   "outputs": [],
   "source": [
    "from sklearn.preprocessing import StandardScaler\n",
    "import pickle\n",
    "\n",
    "numericals_ = data1.select_dtypes(np.number)\n",
    "\n",
    "X = numericals_.drop(\"TARGET_D\", axis=1)\n",
    "y = numericals_[\"TARGET_D\"]\n",
    "\n",
    "X_train_num, X_test_num, y_train, y_test = train_test_split(X, y, test_size=0.20, random_state=42)\n",
    "\n",
    "# Pickle - you'll use it at least for these steps:\n",
    "# to save the scaler\n",
    "# to save the encoder\n",
    "# to save the model\n",
    "\n",
    "X_transformer = StandardScaler()\n",
    "X_transformer.fit(X_train_num)\n",
    "\n",
    "# saving in a pickle\n",
    "with open('std_transformer.pickle', 'wb') as file:\n",
    "    pickle.dump(X_transformer, file)\n",
    "\n",
    "# loading from a pickle\n",
    "with open('std_transformer.pickle', 'rb') as file:\n",
    "    loaded_transformer = pickle.load(file)\n",
    "\n",
    "X_train_std = loaded_transformer.transform(X_train_num)\n",
    "X_test_std = loaded_transformer.transform(X_test_num)"
   ]
  },
  {
   "cell_type": "markdown",
   "metadata": {
    "id": "B9YQaWNwg4_Z"
   },
   "source": [
    "##### Normalizer\n",
    "\n",
    "For each column, each value is divided by the magnitude of the column. The magnitude is calculated as the euclidean distance.\n",
    "\n",
    "It is calculated column wise, so it takes the values of a whole row to calculate. It is wise to do the X/y split beforehand.\n",
    "\n",
    "When using Normalizer() you might lose considerable amount of information in the dummified columns. So it might be a good idea to take the categorical columns out before scaling, and then concatenating them together again, but watch out because that too will have consequences to your model."
   ]
  },
  {
   "cell_type": "code",
   "execution_count": 35,
   "metadata": {
    "executionInfo": {
     "elapsed": 5,
     "status": "ok",
     "timestamp": 1687881821223,
     "user": {
      "displayName": "Felipe Rocha",
      "userId": "13209801955446981393"
     },
     "user_tz": -60
    },
    "id": "CNzT-o-ig4_a"
   },
   "outputs": [],
   "source": [
    "from sklearn.preprocessing import Normalizer\n",
    "\n",
    "X = numericals_.drop(\"TARGET_D\", axis=1)\n",
    "y = numericals_[\"TARGET_D\"]\n",
    "\n",
    "transformer = Normalizer()\n",
    "x_normalized = transformer.fit_transform(X)\n",
    "\n",
    "X_train_norm, X_test_norm, y_train, y_test = train_test_split(x_normalized, y, test_size=0.20, random_state=42)"
   ]
  },
  {
   "cell_type": "markdown",
   "metadata": {
    "id": "ITdVHo4og4_a"
   },
   "source": [
    "**REMEMBER:** if you scaled your data to train the model, you'll have to apply the same scale to the new data you'll be getting the predictions from.\n",
    "\n",
    "**ALSO:** you might need to un-scale it for better readability (specially if you scaled the target variable).\n",
    "\n",
    "Some more clarification on where to use which [here](https://towardsdatascience.com/what-is-feature-scaling-why-is-it-important-in-machine-learning-2854ae877048)."
   ]
  },
  {
   "cell_type": "markdown",
   "metadata": {
    "id": "Q4dT7qr8g4_a"
   },
   "source": [
    "##### Thoughts after scaling:\n",
    "At this point it's early to say which scaling technique works best. After preparing the categorical variables we can test our different scaling techniques and compare with the metrics from the models we train.\n",
    "\n",
    "OBS.: Document your work or you'll get lost in it :)"
   ]
  },
  {
   "cell_type": "markdown",
   "metadata": {
    "id": "mGO-pu8NjK7x"
   },
   "source": [
    "Now let's check which scaling technique is best for our regression model:"
   ]
  },
  {
   "cell_type": "code",
   "execution_count": 36,
   "metadata": {
    "colab": {
     "base_uri": "https://localhost:8080/"
    },
    "executionInfo": {
     "elapsed": 5,
     "status": "ok",
     "timestamp": 1687881821223,
     "user": {
      "displayName": "Felipe Rocha",
      "userId": "13209801955446981393"
     },
     "user_tz": -60
    },
    "id": "3oIbyUhJi6xC",
    "outputId": "ce64307c-0f8e-45fd-ce13-c85308677751"
   },
   "outputs": [
    {
     "data": {
      "text/plain": [
       "0.6211139454303288"
      ]
     },
     "execution_count": 36,
     "metadata": {},
     "output_type": "execute_result"
    }
   ],
   "source": [
    "# With Log scaling:\n",
    "\n",
    "X = numericals_log.drop('TARGET_D', axis=1)\n",
    "y = numericals_log['TARGET_D']\n",
    "\n",
    "X_train, X_test, y_train, y_test = train_test_split(X, y, test_size=0.20, random_state=42)\n",
    "\n",
    "lr = LinearRegression()\n",
    "lr.fit(X_train, y_train)\n",
    "lr.score(X_test, y_test)"
   ]
  },
  {
   "cell_type": "code",
   "execution_count": 37,
   "metadata": {
    "colab": {
     "base_uri": "https://localhost:8080/",
     "height": 466
    },
    "executionInfo": {
     "elapsed": 374,
     "status": "ok",
     "timestamp": 1687881821593,
     "user": {
      "displayName": "Felipe Rocha",
      "userId": "13209801955446981393"
     },
     "user_tz": -60
    },
    "id": "rdnW_Cr2j6aV",
    "outputId": "14b12ded-74cb-483a-e2a3-ab3e3de0e29e"
   },
   "outputs": [
    {
     "data": {
      "text/plain": [
       "<Axes: xlabel='TARGET_D'>"
      ]
     },
     "execution_count": 37,
     "metadata": {},
     "output_type": "execute_result"
    },
    {
     "data": {
      "image/png": "[encoded data removed]",
      "text/plain": [
       "<Figure size 640x480 with 1 Axes>"
      ]
     },
     "metadata": {},
     "output_type": "display_data"
    }
   ],
   "source": [
    "sns.regplot(x=y_test, y=lr.predict(X_test))"
   ]
  },
  {
   "cell_type": "code",
   "execution_count": 38,
   "metadata": {
    "colab": {
     "base_uri": "https://localhost:8080/"
    },
    "executionInfo": {
     "elapsed": 4,
     "status": "ok",
     "timestamp": 1687881821593,
     "user": {
      "displayName": "Felipe Rocha",
      "userId": "13209801955446981393"
     },
     "user_tz": -60
    },
    "id": "QycFY5ptkFpU",
    "outputId": "8f287bee-b47e-44a2-9393-9d62a5486d12"
   },
   "outputs": [
    {
     "data": {
      "text/plain": [
       "0.4388242501444698"
      ]
     },
     "execution_count": 38,
     "metadata": {},
     "output_type": "execute_result"
    }
   ],
   "source": [
    "# With StandardScaler:\n",
    "\n",
    "lr = LinearRegression()\n",
    "lr.fit(X_train_std, y_train)\n",
    "lr.score(X_test_std, y_test)"
   ]
  },
  {
   "cell_type": "code",
   "execution_count": 39,
   "metadata": {
    "colab": {
     "base_uri": "https://localhost:8080/",
     "height": 466
    },
    "executionInfo": {
     "elapsed": 544,
     "status": "ok",
     "timestamp": 1687881822135,
     "user": {
      "displayName": "Felipe Rocha",
      "userId": "13209801955446981393"
     },
     "user_tz": -60
    },
    "id": "FHwhiHCXkHzU",
    "outputId": "0a49fdbf-0ccf-4869-de10-844d31ad0869"
   },
   "outputs": [
    {
     "data": {
      "text/plain": [
       "<Axes: xlabel='TARGET_D'>"
      ]
     },
     "execution_count": 39,
     "metadata": {},
     "output_type": "execute_result"
    },
    {
     "data": {
      "image/png": "[encoded data removed]",
      "text/plain": [
       "<Figure size 640x480 with 1 Axes>"
      ]
     },
     "metadata": {},
     "output_type": "display_data"
    }
   ],
   "source": [
    "sns.regplot(x=y_test, y=lr.predict(X_test_std))"
   ]
  },
  {
   "cell_type": "code",
   "execution_count": 40,
   "metadata": {
    "colab": {
     "base_uri": "https://localhost:8080/"
    },
    "executionInfo": {
     "elapsed": 11,
     "status": "ok",
     "timestamp": 1687881822135,
     "user": {
      "displayName": "Felipe Rocha",
      "userId": "13209801955446981393"
     },
     "user_tz": -60
    },
    "id": "htHzxJACkgLi",
    "outputId": "c350d1de-2d7e-464f-c84f-300a79d9d13c"
   },
   "outputs": [
    {
     "data": {
      "text/plain": [
       "0.1401918627996287"
      ]
     },
     "execution_count": 40,
     "metadata": {},
     "output_type": "execute_result"
    }
   ],
   "source": [
    "# With Normalizer:\n",
    "\n",
    "lr = LinearRegression()\n",
    "lr.fit(X_train_norm, y_train)\n",
    "lr.score(X_test_norm, y_test)"
   ]
  },
  {
   "cell_type": "code",
   "execution_count": 41,
   "metadata": {
    "colab": {
     "base_uri": "https://localhost:8080/",
     "height": 466
    },
    "executionInfo": {
     "elapsed": 403,
     "status": "ok",
     "timestamp": 1687881822532,
     "user": {
      "displayName": "Felipe Rocha",
      "userId": "13209801955446981393"
     },
     "user_tz": -60
    },
    "id": "2xwO2blKk_6x",
    "outputId": "35b80846-1023-4ae2-da5b-615820736ab6"
   },
   "outputs": [
    {
     "data": {
      "text/plain": [
       "<Axes: xlabel='TARGET_D'>"
      ]
     },
     "execution_count": 41,
     "metadata": {},
     "output_type": "execute_result"
    },
    {
     "data": {
      "image/png": "[encoded data removed]",
      "text/plain": [
       "<Figure size 640x480 with 1 Axes>"
      ]
     },
     "metadata": {},
     "output_type": "display_data"
    }
   ],
   "source": [
    "sns.regplot(x=y_test, y=lr.predict(X_test_norm))"
   ]
  },
  {
   "cell_type": "markdown",
   "metadata": {
    "id": "nFF-lGuAlKiI"
   },
   "source": [
    "For now, we can assume that the best scaling technique for this dataset would be Log scaling."
   ]
  },
  {
   "cell_type": "markdown",
   "metadata": {
    "id": "EbA2Uf4pg4_i"
   },
   "source": [
    "***TO BE CONTINUED...***"
   ]
  }
 ],
 "metadata": {
  "colab": {
   "provenance": []
  },
  "kernelspec": {
   "display_name": "Python 3 (ipykernel)",
   "language": "python",
   "name": "python3"
  },
  "language_info": {
   "codemirror_mode": {
    "name": "ipython",
    "version": 3
   },
   "file_extension": ".py",
   "mimetype": "text/x-python",
   "name": "python",
   "nbconvert_exporter": "python",
   "pygments_lexer": "ipython3",
   "version": "3.10.9"
  }
 },
 "nbformat": 4,
 "nbformat_minor": 1
}
